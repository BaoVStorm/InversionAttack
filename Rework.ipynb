{
 "cells": [
  {
   "attachments": {},
   "cell_type": "markdown",
   "metadata": {
    "id": "k0rUERH-551c"
   },
   "source": [
    "# Gradient-based Model Inversion Attack against Federated Learning\n",
    "\n",
    "In this tutorial, we will experiment gradient-based model inversion attack, which allows the malicious server of Federated Learning to reconstruct the private local dataset via shared gradients. You can implement five popular gradient-based model inversion attacks with AIJack. These methods reconstruct the private images by minimizing the distance between the fake gradients and the received gradients. Each method has its own strategy, such as the distance metric and regularization terms."
   ]
  },
  {
   "cell_type": "markdown",
   "metadata": {},
   "source": [
    "## Thư viện"
   ]
  },
  {
   "cell_type": "code",
   "execution_count": 3,
   "metadata": {
    "id": "2b1JISUQ5MXM"
   },
   "outputs": [],
   "source": [
    "import cv2\n",
    "import copy\n",
    "import torch\n",
    "import torch.nn as nn\n",
    "import torchvision\n",
    "import torchvision.transforms as transforms\n",
    "from numpy import e\n",
    "from matplotlib import pyplot as plt\n",
    "import torch.optim as optim\n",
    "from tqdm.notebook import tqdm\n",
    "\n",
    "from aijack.collaborative.fedavg import FedAVGAPI, FedAVGClient, FedAVGServer\n",
    "from aijack.attack.inversion import GradientInversionAttackServerManager\n",
    "from torch.utils.data import DataLoader, TensorDataset\n",
    "from aijack.utils import NumpyDataset\n",
    "\n",
    "import warnings\n",
    "\n",
    "warnings.filterwarnings(\"ignore\")"
   ]
  },
  {
   "cell_type": "markdown",
   "metadata": {},
   "source": [
    "## Mô hình"
   ]
  },
  {
   "cell_type": "code",
   "execution_count": 4,
   "metadata": {},
   "outputs": [],
   "source": [
    "# Resnet model\n",
    "\n",
    "import torch\n",
    "import torch.nn as nn\n",
    "import torch.nn.functional as F\n",
    "\n",
    "class BasicBlock(nn.Module):\n",
    "    def __init__(self, in_channels, out_channels, stride=1):\n",
    "        super(BasicBlock, self).__init__()\n",
    "        self.conv1 = nn.Conv2d(in_channels, out_channels, kernel_size=3, stride=stride, padding=1, bias=False)\n",
    "        self.bn1 = nn.BatchNorm2d(out_channels)\n",
    "        self.conv2 = nn.Conv2d(out_channels, out_channels, kernel_size=3, stride=1, padding=1, bias=False)\n",
    "        self.bn2 = nn.BatchNorm2d(out_channels)\n",
    "\n",
    "        self.shortcut = nn.Sequential()\n",
    "        if stride != 1 or in_channels != out_channels:\n",
    "            self.shortcut = nn.Sequential(\n",
    "                nn.Conv2d(in_channels, out_channels, kernel_size=1, stride=stride, bias=False),\n",
    "                nn.BatchNorm2d(out_channels)\n",
    "            )\n",
    "\n",
    "    def forward(self, x):\n",
    "        out = F.relu(self.bn1(self.conv1(x)))\n",
    "        out = self.bn2(self.conv2(out))\n",
    "        out += self.shortcut(x)\n",
    "        out = F.relu(out)\n",
    "        return out\n",
    "\n",
    "class ResNet20(nn.Module):\n",
    "    def __init__(self, num_classes=10):\n",
    "        super(ResNet20, self).__init__()\n",
    "        self.conv1 = nn.Conv2d(3, 16, kernel_size=3, stride=1, padding=1, bias=False)\n",
    "        self.bn1 = nn.BatchNorm2d(16)\n",
    "        self.layer1 = self._make_layer(16, 16, 3, stride=1)\n",
    "        self.layer2 = self._make_layer(16, 32, 3, stride=2)\n",
    "        self.layer3 = self._make_layer(32, 64, 3, stride=2)\n",
    "        self.linear = nn.Linear(64, num_classes)\n",
    "\n",
    "    def _make_layer(self, in_channels, out_channels, num_blocks, stride):\n",
    "        strides = [stride] + [1] * (num_blocks - 1)\n",
    "        layers = []\n",
    "        for stride in strides:\n",
    "            layers.append(BasicBlock(in_channels, out_channels, stride))\n",
    "            in_channels = out_channels\n",
    "        return nn.Sequential(*layers)\n",
    "\n",
    "    def forward(self, x):\n",
    "        out = F.relu(self.bn1(self.conv1(x)))\n",
    "        out = self.layer1(out)\n",
    "        out = self.layer2(out)\n",
    "        out = self.layer3(out)\n",
    "        out = F.avg_pool2d(out, 4)\n",
    "        out = out.view(out.size(0), -1)\n",
    "        out = self.linear(out)\n",
    "        return out\n"
   ]
  },
  {
   "cell_type": "code",
   "execution_count": 5,
   "metadata": {
    "id": "CrFIlyBs5Se2"
   },
   "outputs": [],
   "source": [
    "# LeNet model\n",
    "\n",
    "class LeNet(nn.Module):\n",
    "    def __init__(self, channel=3, hideen=768, num_classes=10):\n",
    "        super(LeNet, self).__init__()\n",
    "        act = nn.Sigmoid\n",
    "        self.body = nn.Sequential(\n",
    "            nn.Conv2d(channel, 12, kernel_size=5, padding=5 // 2, stride=2),\n",
    "            nn.BatchNorm2d(12),\n",
    "            act(),\n",
    "            nn.Conv2d(12, 12, kernel_size=5, padding=5 // 2, stride=2),\n",
    "            nn.BatchNorm2d(12),\n",
    "            act(),\n",
    "            nn.Conv2d(12, 12, kernel_size=5, padding=5 // 2, stride=1),\n",
    "            nn.BatchNorm2d(12),\n",
    "            act(),\n",
    "        )\n",
    "        self.fc = nn.Sequential(nn.Linear(hideen, num_classes))\n",
    "\n",
    "    def forward(self, x):\n",
    "        out = self.body(x)\n",
    "        out = out.view(out.size(0), -1)\n",
    "        out = self.fc(out)\n",
    "        return out"
   ]
  },
  {
   "cell_type": "markdown",
   "metadata": {},
   "source": [
    "## Data "
   ]
  },
  {
   "cell_type": "markdown",
   "metadata": {},
   "source": [
    "1. MNIST  -  (LeNet hoặc MLP) ko cần resnet vì ảnh đơn giản\n",
    "- Loại dữ liệu: Ảnh chữ số viết tay (đen trắng).\n",
    "- Kích thước ảnh: 28x28 pixel, 1 kênh (grayscale).\n",
    "- Số lớp: 10 (các chữ số từ 0 đến 9).\n",
    "- Số lượng mẫu: 70,000 (60,000 ảnh huấn luyện, 10,000 ảnh kiểm tra).\n",
    "2. LFW (Labeled Faces in the Wild)  -  (ResNet hoặc FaceNet)\n",
    "- Loại dữ liệu: Ảnh khuôn mặt (màu, RGB).\n",
    "- Kích thước ảnh: 62x47 pixel, 3 kênh (RGB).\n",
    "- Số lớp:\n",
    "- Phụ thuộc vào chế độ sử dụng:\n",
    "- Binary classification: Nhận diện cặp ảnh có cùng danh tính hay không.\n",
    "- Multi-class classification: Phân loại dựa trên danh tính (5,749 danh tính trong dataset đầy đủ).\n",
    "- Số lượng mẫu: 13,233 ảnh khuôn mặt từ 5,749 người.\n",
    "3. CIFAR-10  -  (ResNet và LFW)\n",
    "- Loại dữ liệu: Ảnh màu (RGB).\n",
    "- Kích thước ảnh: 32x32 pixel, 3 kênh (RGB).\n",
    "- Số lớp: 10 (máy bay, ô tô, chim, mèo, hươu, chó, ếch, ngựa, tàu, xe tải).\n",
    "- Số lượng mẫu: 60,000 (50,000 ảnh huấn luyện, 10,000 ảnh kiểm tra).\n",
    "4. CIFAR-100  -  (ResNet và LFW)\n",
    "- Loại dữ liệu: Ảnh màu (RGB).\n",
    "- Kích thước ảnh: 32x32 pixel, 3 kênh (RGB).\n",
    "- Số lớp: 100 (mỗi lớp chứa 600 ảnh).\n",
    "- Số lượng mẫu: 60,000 (50,000 ảnh huấn luyện, 10,000 ảnh kiểm tra)."
   ]
  },
  {
   "cell_type": "code",
   "execution_count": 79,
   "metadata": {},
   "outputs": [],
   "source": [
    "device = torch.device(\"cuda:0\") if torch.cuda.is_available() else \"cpu\"\n",
    "torch.manual_seed(7777)\n",
    "criterion = nn.CrossEntropyLoss()"
   ]
  },
  {
   "cell_type": "code",
   "execution_count": 85,
   "metadata": {},
   "outputs": [],
   "source": [
    "def PrintInfomation(dataloader, shape_img, num_classes, channel, hidden, num_seeds, num_data = 1):\n",
    "    print(\"Shape of images:\", shape_img)\n",
    "    print(\"Number of classes:\", num_classes)\n",
    "    print(\"Number of channels:\", channel)\n",
    "    print(\"Hidden layer size:\", hidden)\n",
    "    print(\"Number of seeds:\", num_seeds)\n",
    "\n",
    "    # Lấy một batch từ dataloader\n",
    "    for images, labels in dataloader:\n",
    "        print(\"-----------------\")\n",
    "        print(\"Batch size:\", images.size(0))\n",
    "        print(\"Image shape:\", images.shape)  # (batch_size, channels, height, width)\n",
    "        print(\"Labels shape:\", labels.shape)  # (batch_size,)\n",
    "        break\n",
    "\n",
    "    for i, data in enumerate(dataloader):\n",
    "        if i < num_data:\n",
    "            xs, ys = data[0], data[1]\n",
    "            \n",
    "            x = xs[:1]\n",
    "            y = ys[:1]\n",
    "\n",
    "            fig = plt.figure(figsize=(1, 1))\n",
    "            plt.axis(\"off\")\n",
    "            plt.imshow(x.detach().numpy()[0][0], cmap=\"gray\")\n",
    "            plt.show()\n",
    "        else:\n",
    "            break"
   ]
  },
  {
   "cell_type": "code",
   "execution_count": 70,
   "metadata": {},
   "outputs": [
    {
     "name": "stdout",
     "output_type": "stream",
     "text": [
      "Shape of images: (28, 28)\n",
      "Number of classes: 10\n",
      "Number of channels: 1\n",
      "Hidden layer size: 588\n",
      "Number of seeds: 5\n",
      "-----------------\n",
      "Batch size: 64\n",
      "Image shape: torch.Size([64, 1, 28, 28])\n",
      "Labels shape: torch.Size([64])\n"
     ]
    },
    {
     "data": {
      "image/png": "[encoded data removed]",
      "text/plain": [
       "<Figure size 100x100 with 1 Axes>"
      ]
     },
     "metadata": {},
     "output_type": "display_data"
    }
   ],
   "source": [
    "# MNIST\n",
    "def prepare_dataloader_MNIST(path=\"MNIST/.\", batch_size=64, shuffle=True):\n",
    "    at_t_dataset_train = torchvision.datasets.MNIST(\n",
    "        root=path, train=True, download=True\n",
    "    )\n",
    "\n",
    "    transform = transforms.Compose(\n",
    "        [transforms.ToTensor(), transforms.Normalize((0.5,), (0.5,))] # MNIST chỉ có 1 channel\n",
    "    )\n",
    "\n",
    "    dataset = NumpyDataset(\n",
    "        at_t_dataset_train.data.numpy(),\n",
    "        at_t_dataset_train.targets.numpy(),\n",
    "        transform=transform,\n",
    "    )\n",
    "\n",
    "    dataloader = torch.utils.data.DataLoader(\n",
    "        dataset, batch_size=batch_size, shuffle=shuffle, num_workers=0\n",
    "    )\n",
    "\n",
    "    shape_img = (28, 28)\n",
    "    num_classes = 10\n",
    "    channel = 1\n",
    "    hidden = 588\n",
    "\n",
    "    num_seeds = 5\n",
    "\n",
    "    return dataloader, shape_img, num_classes, channel, hidden, num_seeds\n",
    "\n",
    "# Xuất thông tin từ hàm\n",
    "dataloader, shape_img, num_classes, channel, hidden, num_seeds = prepare_dataloader_MNIST()\n",
    "PrintInfomation(dataloader, shape_img, num_classes, channel, hidden, num_seeds)"
   ]
  },
  {
   "cell_type": "code",
   "execution_count": 86,
   "metadata": {
    "id": "W1SuaQLL7aTg"
   },
   "outputs": [
    {
     "name": "stdout",
     "output_type": "stream",
     "text": [
      "Files already downloaded and verified\n",
      "Shape of images: (62, 47)\n",
      "Number of classes: 4038\n",
      "Number of channels: 3\n",
      "Hidden layer size: 768\n",
      "Number of seeds: 5\n",
      "-----------------\n",
      "Batch size: 64\n",
      "Image shape: torch.Size([64, 3, 250, 250])\n",
      "Labels shape: torch.Size([64])\n"
     ]
    },
    {
     "data": {
      "image/png": "[encoded data removed]",
      "text/plain": [
       "<Figure size 100x100 with 1 Axes>"
      ]
     },
     "metadata": {},
     "output_type": "display_data"
    }
   ],
   "source": [
    "# LFW\n",
    "def prepare_dataloader_LFW(path=\"LFW/.\", batch_size=64, shuffle=True):\n",
    "    from torchvision.datasets import LFWPeople\n",
    "    from torchvision import transforms\n",
    "\n",
    "    transform = transforms.Compose(\n",
    "        [\n",
    "            transforms.ToTensor(),  # Chuyển đổi ảnh sang tensor\n",
    "            transforms.Normalize((0.5, 0.5, 0.5), (0.5, 0.5, 0.5)),  # Chuẩn hóa ảnh\n",
    "        ]\n",
    "    )\n",
    "\n",
    "    dataset = torchvision.datasets.LFWPeople(\n",
    "        root=path, split=\"train\", download=True, transform=transform\n",
    "    )\n",
    "\n",
    "    dataloader = torch.utils.data.DataLoader(\n",
    "        dataset, batch_size=batch_size, shuffle=shuffle, num_workers=0\n",
    "    )\n",
    "\n",
    "    # Cấu hình cho LFW dataset\n",
    "    shape_img = (62, 47)  # Kích thước ảnh LFW\n",
    "    num_classes = len(set(dataset.targets))  # Số lượng người trong dataset LFW\n",
    "    channel = 3  # Số kênh đầu vào (ảnh màu)\n",
    "    hidden = 768  # Số lượng ẩn (có thể điều chỉnh)\n",
    "\n",
    "    num_seeds = 5\n",
    "\n",
    "    return dataloader, shape_img, num_classes, channel, hidden, num_seeds\n",
    "\n",
    "# Xuất thông tin từ hàm\n",
    "dataloader, shape_img, num_classes, channel, hidden, num_seeds = prepare_dataloader_LFW()\n",
    "PrintInfomation(dataloader, shape_img, num_classes, channel, hidden, num_seeds)"
   ]
  },
  {
   "cell_type": "code",
   "execution_count": 77,
   "metadata": {
    "id": "7jfBlFUS5Uk3"
   },
   "outputs": [
    {
     "name": "stdout",
     "output_type": "stream",
     "text": [
      "Files already downloaded and verified\n",
      "Shape of images: (32, 32)\n",
      "Number of classes: 10\n",
      "Number of channels: 3\n",
      "Hidden layer size: 768\n",
      "Number of seeds: 5\n",
      "-----------------\n",
      "Batch size: 64\n",
      "Image shape: torch.Size([64, 3, 32, 32])\n",
      "Labels shape: torch.Size([64])\n"
     ]
    },
    {
     "data": {
      "image/png": "[encoded data removed]",
      "text/plain": [
       "<Figure size 100x100 with 1 Axes>"
      ]
     },
     "metadata": {},
     "output_type": "display_data"
    }
   ],
   "source": [
    "# CIFAR-10\n",
    "def prepare_dataloader_CIFAR10(path=\"CIFAR10/.\", batch_size=64, shuffle=True):\n",
    "    at_t_dataset_train = torchvision.datasets.CIFAR10(\n",
    "        root=path, train=True, download=True\n",
    "    )\n",
    "\n",
    "    transform = transforms.Compose(\n",
    "        [transforms.ToTensor(), transforms.Normalize(mean=(0.4914, 0.4822, 0.4465), std=(0.2023, 0.1994, 0.2010))]\n",
    "    )\n",
    "\n",
    "    dataset = NumpyDataset(\n",
    "        at_t_dataset_train.data,  # Dữ liệu CIFAR-10\n",
    "        at_t_dataset_train.targets,  # Nhãn CIFAR-10\n",
    "        transform=transform,\n",
    "    )\n",
    "\n",
    "    dataloader = torch.utils.data.DataLoader(\n",
    "        dataset, batch_size=batch_size, shuffle=shuffle, num_workers=0\n",
    "    )\n",
    "\n",
    "    shape_img = (32, 32)\n",
    "    num_classes = 10  # Số lớp cho CIFAR-10\n",
    "    channel = 3  # Số kênh đầu vào cho CIFAR-10\n",
    "    hidden = 768  # Có thể điều chỉnh giá trị này nếu cần\n",
    "\n",
    "    num_seeds = 5\n",
    "\n",
    "    return dataloader, shape_img, num_classes, channel, hidden, num_seeds\n",
    "\n",
    "# Xuất thông tin từ hàm\n",
    "dataloader, shape_img, num_classes, channel, hidden, num_seeds = prepare_dataloader_CIFAR10()\n",
    "PrintInfomation(dataloader, shape_img, num_classes, channel, hidden, num_seeds)"
   ]
  },
  {
   "cell_type": "code",
   "execution_count": 78,
   "metadata": {},
   "outputs": [
    {
     "name": "stdout",
     "output_type": "stream",
     "text": [
      "Files already downloaded and verified\n",
      "Shape of images: (32, 32)\n",
      "Number of classes: 100\n",
      "Number of channels: 3\n",
      "Hidden layer size: 768\n",
      "Number of seeds: 5\n",
      "-----------------\n",
      "Batch size: 64\n",
      "Image shape: torch.Size([64, 3, 32, 32])\n",
      "Labels shape: torch.Size([64])\n"
     ]
    },
    {
     "data": {
      "image/png": "[encoded data removed]",
      "text/plain": [
       "<Figure size 100x100 with 1 Axes>"
      ]
     },
     "metadata": {},
     "output_type": "display_data"
    }
   ],
   "source": [
    "# CIFAR-100\n",
    "def prepare_dataloader_CIFAR100(path=\"CIFAR100/.\", batch_size=64, shuffle=True):\n",
    "    at_t_dataset_train = torchvision.datasets.CIFAR100(\n",
    "        root=path, train=True, download=True\n",
    "    )\n",
    "\n",
    "    transform = transforms.Compose(\n",
    "        [transforms.ToTensor(), transforms.Normalize(mean=(0.5071, 0.4867, 0.4408), std=(0.2675, 0.2565, 0.2761))]\n",
    "    )\n",
    "\n",
    "    dataset = NumpyDataset(\n",
    "        at_t_dataset_train.data,  # Dữ liệu CIFAR-100\n",
    "        at_t_dataset_train.targets,  # Nhãn CIFAR-100\n",
    "        transform=transform,\n",
    "    )\n",
    "\n",
    "    dataloader = torch.utils.data.DataLoader(\n",
    "        dataset, batch_size=batch_size, shuffle=shuffle, num_workers=0\n",
    "    )\n",
    "\n",
    "    shape_img = (32, 32)\n",
    "    num_classes = 100  # Số lớp cho CIFAR-100\n",
    "    channel = 3  # Số kênh đầu vào cho CIFAR-100\n",
    "    hidden = 768  # Có thể điều chỉnh giá trị này nếu cần\n",
    "\n",
    "    num_seeds = 5\n",
    "\n",
    "    return dataloader, shape_img, num_classes, channel, hidden, num_seeds\n",
    "\n",
    "# Xuất thông tin từ hàm\n",
    "dataloader, shape_img, num_classes, channel, hidden, num_seeds = prepare_dataloader_CIFAR100()\n",
    "PrintInfomation(dataloader, shape_img, num_classes, channel, hidden, num_seeds)"
   ]
  },
  {
   "cell_type": "markdown",
   "metadata": {
    "id": "Zpt1sJxU9lVi"
   },
   "source": [
    "## Reconstruct Single Data\n",
    "\n",
    "First, we try to recover the following private image from the received gradients with the batch size of 1."
   ]
  },
  {
   "attachments": {},
   "cell_type": "markdown",
   "metadata": {
    "id": "zsetq0Lc-NVd"
   },
   "source": [
    "### DLG\n",
    "\n",
    "You can convert the normal server to the malicious attacker with `GradientInversionAttackServerManager`.\n",
    "\n",
    "https://dlg.mit.edu/assets/NeurIPS19_deep_leakage_from_gradients.pdf\n",
    "\n",
    "- distance metric = L2 norm\n",
    "- optimize labels"
   ]
  },
  {
   "cell_type": "code",
   "execution_count": null,
   "metadata": {
    "colab": {
     "base_uri": "https://localhost:8080/",
     "height": 108
    },
    "id": "4BAe6aEu5odr",
    "outputId": "0f637df8-817d-4179-de31-0441045ddf08"
   },
   "outputs": [
    {
     "name": "stdout",
     "output_type": "stream",
     "text": [
      "Files already downloaded and verified\n",
      "communication 0, epoch 0: client-1 4.7457804679870605\n"
     ]
    }
   ],
   "source": [
    "dataloader, shape_img, num_classes, channel, hidden, num_seeds = prepare_dataloader_CIFAR100()\n",
    "for data in dataloader:\n",
    "    xs, ys = data[0], data[1]\n",
    "    break\n",
    "\n",
    "x = xs[:1]\n",
    "y = ys[:1]\n",
    "\n",
    "manager = GradientInversionAttackServerManager(\n",
    "    (channel, shape_img[0], shape_img[1]),\n",
    "    num_trial_per_communication=5,\n",
    "    log_interval=0,\n",
    "    num_iteration=100,\n",
    "    distancename=\"l2\",\n",
    "    device=device,\n",
    "    lr=1.0,\n",
    ")\n",
    "\n",
    "DLGFedAVGServer = manager.attach(FedAVGServer)\n",
    "\n",
    "client = FedAVGClient(\n",
    "    LeNet(channel=channel, hideen=hidden, num_classes=num_classes).to(device),\n",
    "    lr=1.0,\n",
    "    device=device,\n",
    ")\n",
    "server = DLGFedAVGServer(\n",
    "    [client],\n",
    "    LeNet(channel=channel, hideen=hidden, num_classes=num_classes).to(device),\n",
    "    lr=1.0,\n",
    "    device=device,\n",
    ")\n",
    "\n",
    "local_dataloaders = [DataLoader(TensorDataset(x, y))]\n",
    "local_optimizers = [optim.SGD(client.parameters(), lr=1.0)]\n",
    "\n",
    "api = FedAVGAPI(\n",
    "    server,\n",
    "    [client],\n",
    "    criterion,\n",
    "    local_optimizers,\n",
    "    local_dataloaders,\n",
    "    num_communication=1,\n",
    "    local_epoch=1,\n",
    "    use_gradients=True,\n",
    "    device=device,\n",
    ")\n",
    "\n",
    "api.run()\n",
    "\n",
    "fig = plt.figure(figsize=(5, 2))\n",
    "for s, result in enumerate(server.attack_results[0]):\n",
    "    ax = fig.add_subplot(1, len(server.attack_results[0]), s + 1)\n",
    "    ax.imshow(result[0].cpu().detach().numpy()[0][0], cmap=\"gray\")\n",
    "    ax.axis(\"off\")\n",
    "plt.tight_layout()\n",
    "plt.show()"
   ]
  },
  {
   "cell_type": "code",
   "execution_count": null,
   "metadata": {},
   "outputs": [],
   "source": [
    "from torchvision.datasets import LFWPeople\n",
    "from torchvision import transforms\n",
    "from torch.utils.data import DataLoader, TensorDataset\n",
    "import torch.optim as optim\n",
    "import torch\n",
    "import matplotlib.pyplot as plt\n",
    "import numpy as np\n",
    "\n",
    "\n",
    "# Chuẩn bị dữ liệu LFW\n",
    "transform = transforms.Compose(\n",
    "    [\n",
    "        transforms.Resize((62, 47)),  # Giữ kích thước ảnh LFW mặc định\n",
    "        transforms.ToTensor(),  # Chuyển đổi sang Tensor\n",
    "        transforms.Normalize((0.5, 0.5, 0.5), (0.5, 0.5, 0.5)),  # Chuẩn hóa\n",
    "    ]\n",
    ")\n",
    "\n",
    "lfw_dataset = LFWPeople(root=\"LFW/.\", split=\"train\", transform=transform, download=False)\n",
    "lfw_loader = DataLoader(lfw_dataset, batch_size=32, shuffle=True)\n",
    "\n",
    "# Lấy mẫu dữ liệu để minh họa\n",
    "x, y = next(iter(lfw_loader))  # Batch đầu tiên\n",
    "x, y = x.to(\"cuda\"), y.to(\"cuda\")\n",
    "\n",
    "# Cấu hình tham số\n",
    "input_shape = (3, 62, 47)  # Ảnh LFW có 3 kênh, kích thước 62x47\n",
    "num_classes = len(lfw_dataset.classes)  # Số lớp tương ứng với số người\n",
    "hidden = 768\n",
    "device = \"cuda\" if torch.cuda.is_available() else \"cpu\"\n",
    "\n",
    "# Khởi tạo các thành phần của FedAVG\n",
    "manager = GradientInversionAttackServerManager(\n",
    "    input_shape,\n",
    "    num_trial_per_communication=5,\n",
    "    log_interval=0,\n",
    "    num_iteration=100,\n",
    "    tv_reg_coef=0.01,\n",
    "    distancename=\"cossim\",\n",
    "    device=device,\n",
    "    lr=0.1,\n",
    ")\n",
    "GSFedAVGServer = manager.attach(FedAVGServer)\n",
    "\n",
    "client = FedAVGClient(\n",
    "    LeNet(channel=3, hideen=hidden, num_classes=num_classes).to(device),\n",
    "    lr=0.1,\n",
    "    device=device,\n",
    ")\n",
    "server = GSFedAVGServer(\n",
    "    [client],\n",
    "    LeNet(channel=3, hideen=hidden, num_classes=num_classes).to(device),\n",
    "    lr=0.1,\n",
    "    device=device,\n",
    ")\n",
    "\n",
    "# Chuẩn bị DataLoader và Optimizer\n",
    "local_dataloaders = [DataLoader(TensorDataset(x, y))]\n",
    "local_optimizers = [optim.SGD(client.parameters(), lr=0.1)]\n",
    "\n",
    "api = FedAVGAPI(\n",
    "    server,\n",
    "    [client],\n",
    "    criterion=torch.nn.CrossEntropyLoss(),\n",
    "    local_optimizers=local_optimizers,\n",
    "    local_dataloaders=local_dataloaders,\n",
    "    num_communication=1,\n",
    "    local_epoch=1,\n",
    "    use_gradients=True,\n",
    "    device=device,\n",
    ")\n",
    "\n",
    "# Chạy thuật toán\n",
    "api.run()\n",
    "\n",
    "# Minh họa kết quả tấn công\n",
    "fig = plt.figure(figsize=(5, 2))\n",
    "for s, result in enumerate(server.attack_results[0]):\n",
    "    ax = fig.add_subplot(1, len(server.attack_results[0]), s + 1)\n",
    "    ax.imshow(result[0].cpu().detach().numpy().transpose(1, 2, 0))  # Hiển thị ảnh màu\n",
    "    ax.axis(\"off\")\n",
    "plt.tight_layout()\n",
    "plt.show()\n"
   ]
  },
  {
   "cell_type": "markdown",
   "metadata": {
    "id": "G1U9EU7UAsju"
   },
   "source": [
    "### GS Attack\n",
    "\n",
    "https://arxiv.org/abs/2003.14053\n",
    "\n",
    "- distance metric = cosine similarity\n",
    "- optimize labels\n",
    "- regularization: total-variance"
   ]
  },
  {
   "cell_type": "code",
   "execution_count": 19,
   "metadata": {
    "colab": {
     "base_uri": "https://localhost:8080/",
     "height": 162
    },
    "id": "PJAu_poY6q7L",
    "outputId": "cc804e87-34b0-47b2-b765-ee63af5142f9"
   },
   "outputs": [
    {
     "name": "stdout",
     "output_type": "stream",
     "text": [
      "communication 0, epoch 0: client-1 2.236091375350952\n"
     ]
    },
    {
     "ename": "RuntimeError",
     "evalue": "Given groups=1, weight of size [12, 3, 5, 5], expected input[1, 1, 28, 28] to have 3 channels, but got 1 channels instead",
     "output_type": "error",
     "traceback": [
      "\u001b[0;31m---------------------------------------------------------------------------\u001b[0m",
      "\u001b[0;31mRuntimeError\u001b[0m                              Traceback (most recent call last)",
      "Cell \u001b[0;32mIn[19], line 41\u001b[0m\n\u001b[1;32m     27\u001b[0m local_optimizers \u001b[38;5;241m=\u001b[39m [optim\u001b[38;5;241m.\u001b[39mSGD(client\u001b[38;5;241m.\u001b[39mparameters(), lr\u001b[38;5;241m=\u001b[39m\u001b[38;5;241m0.1\u001b[39m)]\n\u001b[1;32m     29\u001b[0m api \u001b[38;5;241m=\u001b[39m FedAVGAPI(\n\u001b[1;32m     30\u001b[0m     server,\n\u001b[1;32m     31\u001b[0m     [client],\n\u001b[0;32m   (...)\u001b[0m\n\u001b[1;32m     38\u001b[0m     device\u001b[38;5;241m=\u001b[39mdevice,\n\u001b[1;32m     39\u001b[0m )\n\u001b[0;32m---> 41\u001b[0m \u001b[43mapi\u001b[49m\u001b[38;5;241;43m.\u001b[39;49m\u001b[43mrun\u001b[49m\u001b[43m(\u001b[49m\u001b[43m)\u001b[49m\n\u001b[1;32m     43\u001b[0m fig \u001b[38;5;241m=\u001b[39m plt\u001b[38;5;241m.\u001b[39mfigure(figsize\u001b[38;5;241m=\u001b[39m(\u001b[38;5;241m5\u001b[39m, \u001b[38;5;241m2\u001b[39m))\n\u001b[1;32m     44\u001b[0m \u001b[38;5;28;01mfor\u001b[39;00m s, result \u001b[38;5;129;01min\u001b[39;00m \u001b[38;5;28menumerate\u001b[39m(server\u001b[38;5;241m.\u001b[39mattack_results[\u001b[38;5;241m0\u001b[39m]):\n",
      "File \u001b[0;32m~/.local/lib/python3.10/site-packages/aijack/collaborative/fedavg/api.py:74\u001b[0m, in \u001b[0;36mFedAVGAPI.run\u001b[0;34m(self)\u001b[0m\n\u001b[1;32m     72\u001b[0m \u001b[38;5;28;01mfor\u001b[39;00m i \u001b[38;5;129;01min\u001b[39;00m \u001b[38;5;28mrange\u001b[39m(\u001b[38;5;28mself\u001b[39m\u001b[38;5;241m.\u001b[39mnum_communication):\n\u001b[1;32m     73\u001b[0m     \u001b[38;5;28mself\u001b[39m\u001b[38;5;241m.\u001b[39mlocal_train(i)\n\u001b[0;32m---> 74\u001b[0m     \u001b[38;5;28;43mself\u001b[39;49m\u001b[38;5;241;43m.\u001b[39;49m\u001b[43mserver\u001b[49m\u001b[38;5;241;43m.\u001b[39;49m\u001b[43mreceive\u001b[49m\u001b[43m(\u001b[49m\u001b[43muse_gradients\u001b[49m\u001b[38;5;241;43m=\u001b[39;49m\u001b[38;5;28;43mself\u001b[39;49m\u001b[38;5;241;43m.\u001b[39;49m\u001b[43muse_gradients\u001b[49m\u001b[43m)\u001b[49m\n\u001b[1;32m     75\u001b[0m     \u001b[38;5;28;01mif\u001b[39;00m \u001b[38;5;28mself\u001b[39m\u001b[38;5;241m.\u001b[39muse_gradients:\n\u001b[1;32m     76\u001b[0m         \u001b[38;5;28mself\u001b[39m\u001b[38;5;241m.\u001b[39mserver\u001b[38;5;241m.\u001b[39mupdate_from_gradients()\n",
      "File \u001b[0;32m~/.local/lib/python3.10/site-packages/aijack/attack/inversion/gradientinversion_server.py:57\u001b[0m, in \u001b[0;36mattach_gradient_inversion_attack_to_server.<locals>.GradientInversionServerWrapper.receive\u001b[0;34m(self, *args, **kwargs)\u001b[0m\n\u001b[1;32m     54\u001b[0m \u001b[38;5;28;01mdef\u001b[39;00m \u001b[38;5;21mreceive\u001b[39m(\u001b[38;5;28mself\u001b[39m, \u001b[38;5;241m*\u001b[39margs, \u001b[38;5;241m*\u001b[39m\u001b[38;5;241m*\u001b[39mkwargs):\n\u001b[1;32m     55\u001b[0m     \u001b[38;5;28msuper\u001b[39m(GradientInversionServerWrapper, \u001b[38;5;28mself\u001b[39m)\u001b[38;5;241m.\u001b[39mreceive(\u001b[38;5;241m*\u001b[39margs, \u001b[38;5;241m*\u001b[39m\u001b[38;5;241m*\u001b[39mkwargs)\n\u001b[0;32m---> 57\u001b[0m     \u001b[43mattack_function_on_receive\u001b[49m\u001b[43m(\u001b[49m\u001b[38;5;28;43mself\u001b[39;49m\u001b[43m)\u001b[49m\n",
      "File \u001b[0;32m~/.local/lib/python3.10/site-packages/aijack/attack/inversion/gradientinversion_server.py:10\u001b[0m, in \u001b[0;36m_default_gradinent_inversion_attack_on_receive\u001b[0;34m(self)\u001b[0m\n\u001b[1;32m      8\u001b[0m \u001b[38;5;28mself\u001b[39m\u001b[38;5;241m.\u001b[39mreset_seed(s)\n\u001b[1;32m      9\u001b[0m \u001b[38;5;28;01mtry\u001b[39;00m:\n\u001b[0;32m---> 10\u001b[0m     tmp_result\u001b[38;5;241m.\u001b[39mappend(\u001b[38;5;28;43mself\u001b[39;49m\u001b[38;5;241;43m.\u001b[39;49m\u001b[43mattack\u001b[49m\u001b[43m(\u001b[49m\u001b[43m)\u001b[49m)\n\u001b[1;32m     11\u001b[0m \u001b[38;5;28;01mexcept\u001b[39;00m \u001b[38;5;167;01mOverflowError\u001b[39;00m:\n\u001b[1;32m     12\u001b[0m     \u001b[38;5;28;01mcontinue\u001b[39;00m\n",
      "File \u001b[0;32m~/.local/lib/python3.10/site-packages/aijack/attack/inversion/gradientinversion_server.py:62\u001b[0m, in \u001b[0;36mattach_gradient_inversion_attack_to_server.<locals>.GradientInversionServerWrapper.attack\u001b[0;34m(self, **kwargs)\u001b[0m\n\u001b[1;32m     60\u001b[0m received_gradient \u001b[38;5;241m=\u001b[39m \u001b[38;5;28mself\u001b[39m\u001b[38;5;241m.\u001b[39muploaded_gradients[\u001b[38;5;28mself\u001b[39m\u001b[38;5;241m.\u001b[39mtarget_client_id]\n\u001b[1;32m     61\u001b[0m received_gradient \u001b[38;5;241m=\u001b[39m [cg\u001b[38;5;241m.\u001b[39mdetach() \u001b[38;5;28;01mfor\u001b[39;00m cg \u001b[38;5;129;01min\u001b[39;00m received_gradient]\n\u001b[0;32m---> 62\u001b[0m \u001b[38;5;28;01mreturn\u001b[39;00m \u001b[38;5;28;43mself\u001b[39;49m\u001b[38;5;241;43m.\u001b[39;49m\u001b[43mattacker\u001b[49m\u001b[38;5;241;43m.\u001b[39;49m\u001b[43mattack\u001b[49m\u001b[43m(\u001b[49m\u001b[43mreceived_gradient\u001b[49m\u001b[43m,\u001b[49m\u001b[43m \u001b[49m\u001b[38;5;241;43m*\u001b[39;49m\u001b[38;5;241;43m*\u001b[39;49m\u001b[43mkwargs\u001b[49m\u001b[43m)\u001b[49m\n",
      "File \u001b[0;32m~/.local/lib/python3.10/site-packages/aijack/attack/inversion/gradientinversion.py:372\u001b[0m, in \u001b[0;36mGradientInversion_Attack.attack\u001b[0;34m(self, received_gradients, batch_size, init_x, labels)\u001b[0m\n\u001b[1;32m    368\u001b[0m \u001b[38;5;28;01mfor\u001b[39;00m i \u001b[38;5;129;01min\u001b[39;00m \u001b[38;5;28mrange\u001b[39m(\u001b[38;5;241m1\u001b[39m, \u001b[38;5;28mself\u001b[39m\u001b[38;5;241m.\u001b[39mnum_iteration \u001b[38;5;241m+\u001b[39m \u001b[38;5;241m1\u001b[39m):\n\u001b[1;32m    369\u001b[0m     closure \u001b[38;5;241m=\u001b[39m \u001b[38;5;28mself\u001b[39m\u001b[38;5;241m.\u001b[39m_setup_closure(\n\u001b[1;32m    370\u001b[0m         optimizer, fake_x, fake_label, received_gradients\n\u001b[1;32m    371\u001b[0m     )\n\u001b[0;32m--> 372\u001b[0m     distance \u001b[38;5;241m=\u001b[39m \u001b[43moptimizer\u001b[49m\u001b[38;5;241;43m.\u001b[39;49m\u001b[43mstep\u001b[49m\u001b[43m(\u001b[49m\u001b[43mclosure\u001b[49m\u001b[43m)\u001b[49m\n\u001b[1;32m    374\u001b[0m     \u001b[38;5;28;01mif\u001b[39;00m \u001b[38;5;28mself\u001b[39m\u001b[38;5;241m.\u001b[39mclamp_range \u001b[38;5;129;01mis\u001b[39;00m \u001b[38;5;129;01mnot\u001b[39;00m \u001b[38;5;28;01mNone\u001b[39;00m:\n\u001b[1;32m    375\u001b[0m         \u001b[38;5;28;01mwith\u001b[39;00m torch\u001b[38;5;241m.\u001b[39mno_grad():\n",
      "File \u001b[0;32m~/.local/lib/python3.10/site-packages/torch/optim/optimizer.py:487\u001b[0m, in \u001b[0;36mOptimizer.profile_hook_step.<locals>.wrapper\u001b[0;34m(*args, **kwargs)\u001b[0m\n\u001b[1;32m    482\u001b[0m         \u001b[38;5;28;01melse\u001b[39;00m:\n\u001b[1;32m    483\u001b[0m             \u001b[38;5;28;01mraise\u001b[39;00m \u001b[38;5;167;01mRuntimeError\u001b[39;00m(\n\u001b[1;32m    484\u001b[0m                 \u001b[38;5;124mf\u001b[39m\u001b[38;5;124m\"\u001b[39m\u001b[38;5;132;01m{\u001b[39;00mfunc\u001b[38;5;132;01m}\u001b[39;00m\u001b[38;5;124m must return None or a tuple of (new_args, new_kwargs), but got \u001b[39m\u001b[38;5;132;01m{\u001b[39;00mresult\u001b[38;5;132;01m}\u001b[39;00m\u001b[38;5;124m.\u001b[39m\u001b[38;5;124m\"\u001b[39m\n\u001b[1;32m    485\u001b[0m             )\n\u001b[0;32m--> 487\u001b[0m out \u001b[38;5;241m=\u001b[39m \u001b[43mfunc\u001b[49m\u001b[43m(\u001b[49m\u001b[38;5;241;43m*\u001b[39;49m\u001b[43margs\u001b[49m\u001b[43m,\u001b[49m\u001b[43m \u001b[49m\u001b[38;5;241;43m*\u001b[39;49m\u001b[38;5;241;43m*\u001b[39;49m\u001b[43mkwargs\u001b[49m\u001b[43m)\u001b[49m\n\u001b[1;32m    488\u001b[0m \u001b[38;5;28mself\u001b[39m\u001b[38;5;241m.\u001b[39m_optimizer_step_code()\n\u001b[1;32m    490\u001b[0m \u001b[38;5;66;03m# call optimizer step post hooks\u001b[39;00m\n",
      "File \u001b[0;32m~/.local/lib/python3.10/site-packages/torch/utils/_contextlib.py:116\u001b[0m, in \u001b[0;36mcontext_decorator.<locals>.decorate_context\u001b[0;34m(*args, **kwargs)\u001b[0m\n\u001b[1;32m    113\u001b[0m \u001b[38;5;129m@functools\u001b[39m\u001b[38;5;241m.\u001b[39mwraps(func)\n\u001b[1;32m    114\u001b[0m \u001b[38;5;28;01mdef\u001b[39;00m \u001b[38;5;21mdecorate_context\u001b[39m(\u001b[38;5;241m*\u001b[39margs, \u001b[38;5;241m*\u001b[39m\u001b[38;5;241m*\u001b[39mkwargs):\n\u001b[1;32m    115\u001b[0m     \u001b[38;5;28;01mwith\u001b[39;00m ctx_factory():\n\u001b[0;32m--> 116\u001b[0m         \u001b[38;5;28;01mreturn\u001b[39;00m \u001b[43mfunc\u001b[49m\u001b[43m(\u001b[49m\u001b[38;5;241;43m*\u001b[39;49m\u001b[43margs\u001b[49m\u001b[43m,\u001b[49m\u001b[43m \u001b[49m\u001b[38;5;241;43m*\u001b[39;49m\u001b[38;5;241;43m*\u001b[39;49m\u001b[43mkwargs\u001b[49m\u001b[43m)\u001b[49m\n",
      "File \u001b[0;32m~/.local/lib/python3.10/site-packages/torch/optim/lbfgs.py:330\u001b[0m, in \u001b[0;36mLBFGS.step\u001b[0;34m(self, closure)\u001b[0m\n\u001b[1;32m    327\u001b[0m state\u001b[38;5;241m.\u001b[39msetdefault(\u001b[38;5;124m\"\u001b[39m\u001b[38;5;124mn_iter\u001b[39m\u001b[38;5;124m\"\u001b[39m, \u001b[38;5;241m0\u001b[39m)\n\u001b[1;32m    329\u001b[0m \u001b[38;5;66;03m# evaluate initial f(x) and df/dx\u001b[39;00m\n\u001b[0;32m--> 330\u001b[0m orig_loss \u001b[38;5;241m=\u001b[39m \u001b[43mclosure\u001b[49m\u001b[43m(\u001b[49m\u001b[43m)\u001b[49m\n\u001b[1;32m    331\u001b[0m loss \u001b[38;5;241m=\u001b[39m \u001b[38;5;28mfloat\u001b[39m(orig_loss)\n\u001b[1;32m    332\u001b[0m current_evals \u001b[38;5;241m=\u001b[39m \u001b[38;5;241m1\u001b[39m\n",
      "File \u001b[0;32m~/.local/lib/python3.10/site-packages/torch/utils/_contextlib.py:116\u001b[0m, in \u001b[0;36mcontext_decorator.<locals>.decorate_context\u001b[0;34m(*args, **kwargs)\u001b[0m\n\u001b[1;32m    113\u001b[0m \u001b[38;5;129m@functools\u001b[39m\u001b[38;5;241m.\u001b[39mwraps(func)\n\u001b[1;32m    114\u001b[0m \u001b[38;5;28;01mdef\u001b[39;00m \u001b[38;5;21mdecorate_context\u001b[39m(\u001b[38;5;241m*\u001b[39margs, \u001b[38;5;241m*\u001b[39m\u001b[38;5;241m*\u001b[39mkwargs):\n\u001b[1;32m    115\u001b[0m     \u001b[38;5;28;01mwith\u001b[39;00m ctx_factory():\n\u001b[0;32m--> 116\u001b[0m         \u001b[38;5;28;01mreturn\u001b[39;00m \u001b[43mfunc\u001b[49m\u001b[43m(\u001b[49m\u001b[38;5;241;43m*\u001b[39;49m\u001b[43margs\u001b[49m\u001b[43m,\u001b[49m\u001b[43m \u001b[49m\u001b[38;5;241;43m*\u001b[39;49m\u001b[38;5;241;43m*\u001b[39;49m\u001b[43mkwargs\u001b[49m\u001b[43m)\u001b[49m\n",
      "File \u001b[0;32m~/.local/lib/python3.10/site-packages/aijack/attack/inversion/gradientinversion.py:284\u001b[0m, in \u001b[0;36mGradientInversion_Attack._setup_closure.<locals>.closure\u001b[0;34m()\u001b[0m\n\u001b[1;32m    282\u001b[0m optimizer\u001b[38;5;241m.\u001b[39mzero_grad()\n\u001b[1;32m    283\u001b[0m \u001b[38;5;28;01mif\u001b[39;00m \u001b[38;5;28mself\u001b[39m\u001b[38;5;241m.\u001b[39mcustom_generate_fake_grad_fn \u001b[38;5;129;01mis\u001b[39;00m \u001b[38;5;28;01mNone\u001b[39;00m:\n\u001b[0;32m--> 284\u001b[0m     fake_pred, fake_gradients \u001b[38;5;241m=\u001b[39m \u001b[43m_generate_fake_gradients\u001b[49m\u001b[43m(\u001b[49m\n\u001b[1;32m    285\u001b[0m \u001b[43m        \u001b[49m\u001b[38;5;28;43mself\u001b[39;49m\u001b[38;5;241;43m.\u001b[39;49m\u001b[43mtarget_model\u001b[49m\u001b[43m,\u001b[49m\n\u001b[1;32m    286\u001b[0m \u001b[43m        \u001b[49m\u001b[38;5;28;43mself\u001b[39;49m\u001b[38;5;241;43m.\u001b[39;49m\u001b[43mlossfunc\u001b[49m\u001b[43m,\u001b[49m\n\u001b[1;32m    287\u001b[0m \u001b[43m        \u001b[49m\u001b[38;5;28;43mself\u001b[39;49m\u001b[38;5;241;43m.\u001b[39;49m\u001b[43moptimize_label\u001b[49m\u001b[43m,\u001b[49m\n\u001b[1;32m    288\u001b[0m \u001b[43m        \u001b[49m\u001b[43mfake_x\u001b[49m\u001b[43m,\u001b[49m\n\u001b[1;32m    289\u001b[0m \u001b[43m        \u001b[49m\u001b[43mfake_label\u001b[49m\u001b[43m,\u001b[49m\n\u001b[1;32m    290\u001b[0m \u001b[43m    \u001b[49m\u001b[43m)\u001b[49m\n\u001b[1;32m    291\u001b[0m \u001b[38;5;28;01melse\u001b[39;00m:\n\u001b[1;32m    292\u001b[0m     fake_pred, fake_gradients \u001b[38;5;241m=\u001b[39m \u001b[38;5;28mself\u001b[39m\u001b[38;5;241m.\u001b[39mcustom_generate_fake_grad_fn(\n\u001b[1;32m    293\u001b[0m         \u001b[38;5;28mself\u001b[39m, fake_x, fake_label\n\u001b[1;32m    294\u001b[0m     )\n",
      "File \u001b[0;32m~/.local/lib/python3.10/site-packages/aijack/attack/inversion/utils/utils.py:113\u001b[0m, in \u001b[0;36m_generate_fake_gradients\u001b[0;34m(target_model, lossfunc, optimize_label, fake_x, fake_label)\u001b[0m\n\u001b[1;32m    110\u001b[0m \u001b[38;5;28;01mdef\u001b[39;00m \u001b[38;5;21m_generate_fake_gradients\u001b[39m(\n\u001b[1;32m    111\u001b[0m     target_model, lossfunc, optimize_label, fake_x, fake_label\n\u001b[1;32m    112\u001b[0m ):\n\u001b[0;32m--> 113\u001b[0m     fake_pred \u001b[38;5;241m=\u001b[39m \u001b[43mtarget_model\u001b[49m\u001b[43m(\u001b[49m\u001b[43mfake_x\u001b[49m\u001b[43m)\u001b[49m\n\u001b[1;32m    114\u001b[0m     \u001b[38;5;28;01mif\u001b[39;00m optimize_label:\n\u001b[1;32m    115\u001b[0m         loss \u001b[38;5;241m=\u001b[39m lossfunc(fake_pred, fake_label\u001b[38;5;241m.\u001b[39msoftmax(dim\u001b[38;5;241m=\u001b[39m\u001b[38;5;241m-\u001b[39m\u001b[38;5;241m1\u001b[39m))\n",
      "File \u001b[0;32m~/.local/lib/python3.10/site-packages/torch/nn/modules/module.py:1736\u001b[0m, in \u001b[0;36mModule._wrapped_call_impl\u001b[0;34m(self, *args, **kwargs)\u001b[0m\n\u001b[1;32m   1734\u001b[0m     \u001b[38;5;28;01mreturn\u001b[39;00m \u001b[38;5;28mself\u001b[39m\u001b[38;5;241m.\u001b[39m_compiled_call_impl(\u001b[38;5;241m*\u001b[39margs, \u001b[38;5;241m*\u001b[39m\u001b[38;5;241m*\u001b[39mkwargs)  \u001b[38;5;66;03m# type: ignore[misc]\u001b[39;00m\n\u001b[1;32m   1735\u001b[0m \u001b[38;5;28;01melse\u001b[39;00m:\n\u001b[0;32m-> 1736\u001b[0m     \u001b[38;5;28;01mreturn\u001b[39;00m \u001b[38;5;28;43mself\u001b[39;49m\u001b[38;5;241;43m.\u001b[39;49m\u001b[43m_call_impl\u001b[49m\u001b[43m(\u001b[49m\u001b[38;5;241;43m*\u001b[39;49m\u001b[43margs\u001b[49m\u001b[43m,\u001b[49m\u001b[43m \u001b[49m\u001b[38;5;241;43m*\u001b[39;49m\u001b[38;5;241;43m*\u001b[39;49m\u001b[43mkwargs\u001b[49m\u001b[43m)\u001b[49m\n",
      "File \u001b[0;32m~/.local/lib/python3.10/site-packages/torch/nn/modules/module.py:1747\u001b[0m, in \u001b[0;36mModule._call_impl\u001b[0;34m(self, *args, **kwargs)\u001b[0m\n\u001b[1;32m   1742\u001b[0m \u001b[38;5;66;03m# If we don't have any hooks, we want to skip the rest of the logic in\u001b[39;00m\n\u001b[1;32m   1743\u001b[0m \u001b[38;5;66;03m# this function, and just call forward.\u001b[39;00m\n\u001b[1;32m   1744\u001b[0m \u001b[38;5;28;01mif\u001b[39;00m \u001b[38;5;129;01mnot\u001b[39;00m (\u001b[38;5;28mself\u001b[39m\u001b[38;5;241m.\u001b[39m_backward_hooks \u001b[38;5;129;01mor\u001b[39;00m \u001b[38;5;28mself\u001b[39m\u001b[38;5;241m.\u001b[39m_backward_pre_hooks \u001b[38;5;129;01mor\u001b[39;00m \u001b[38;5;28mself\u001b[39m\u001b[38;5;241m.\u001b[39m_forward_hooks \u001b[38;5;129;01mor\u001b[39;00m \u001b[38;5;28mself\u001b[39m\u001b[38;5;241m.\u001b[39m_forward_pre_hooks\n\u001b[1;32m   1745\u001b[0m         \u001b[38;5;129;01mor\u001b[39;00m _global_backward_pre_hooks \u001b[38;5;129;01mor\u001b[39;00m _global_backward_hooks\n\u001b[1;32m   1746\u001b[0m         \u001b[38;5;129;01mor\u001b[39;00m _global_forward_hooks \u001b[38;5;129;01mor\u001b[39;00m _global_forward_pre_hooks):\n\u001b[0;32m-> 1747\u001b[0m     \u001b[38;5;28;01mreturn\u001b[39;00m \u001b[43mforward_call\u001b[49m\u001b[43m(\u001b[49m\u001b[38;5;241;43m*\u001b[39;49m\u001b[43margs\u001b[49m\u001b[43m,\u001b[49m\u001b[43m \u001b[49m\u001b[38;5;241;43m*\u001b[39;49m\u001b[38;5;241;43m*\u001b[39;49m\u001b[43mkwargs\u001b[49m\u001b[43m)\u001b[49m\n\u001b[1;32m   1749\u001b[0m result \u001b[38;5;241m=\u001b[39m \u001b[38;5;28;01mNone\u001b[39;00m\n\u001b[1;32m   1750\u001b[0m called_always_called_hooks \u001b[38;5;241m=\u001b[39m \u001b[38;5;28mset\u001b[39m()\n",
      "Cell \u001b[0;32mIn[18], line 19\u001b[0m, in \u001b[0;36mLeNet.forward\u001b[0;34m(self, x)\u001b[0m\n\u001b[1;32m     18\u001b[0m \u001b[38;5;28;01mdef\u001b[39;00m \u001b[38;5;21mforward\u001b[39m(\u001b[38;5;28mself\u001b[39m, x):\n\u001b[0;32m---> 19\u001b[0m     out \u001b[38;5;241m=\u001b[39m \u001b[38;5;28;43mself\u001b[39;49m\u001b[38;5;241;43m.\u001b[39;49m\u001b[43mbody\u001b[49m\u001b[43m(\u001b[49m\u001b[43mx\u001b[49m\u001b[43m)\u001b[49m\n\u001b[1;32m     20\u001b[0m     out \u001b[38;5;241m=\u001b[39m out\u001b[38;5;241m.\u001b[39mview(out\u001b[38;5;241m.\u001b[39msize(\u001b[38;5;241m0\u001b[39m), \u001b[38;5;241m-\u001b[39m\u001b[38;5;241m1\u001b[39m)\n\u001b[1;32m     21\u001b[0m     out \u001b[38;5;241m=\u001b[39m \u001b[38;5;28mself\u001b[39m\u001b[38;5;241m.\u001b[39mfc(out)\n",
      "File \u001b[0;32m~/.local/lib/python3.10/site-packages/torch/nn/modules/module.py:1736\u001b[0m, in \u001b[0;36mModule._wrapped_call_impl\u001b[0;34m(self, *args, **kwargs)\u001b[0m\n\u001b[1;32m   1734\u001b[0m     \u001b[38;5;28;01mreturn\u001b[39;00m \u001b[38;5;28mself\u001b[39m\u001b[38;5;241m.\u001b[39m_compiled_call_impl(\u001b[38;5;241m*\u001b[39margs, \u001b[38;5;241m*\u001b[39m\u001b[38;5;241m*\u001b[39mkwargs)  \u001b[38;5;66;03m# type: ignore[misc]\u001b[39;00m\n\u001b[1;32m   1735\u001b[0m \u001b[38;5;28;01melse\u001b[39;00m:\n\u001b[0;32m-> 1736\u001b[0m     \u001b[38;5;28;01mreturn\u001b[39;00m \u001b[38;5;28;43mself\u001b[39;49m\u001b[38;5;241;43m.\u001b[39;49m\u001b[43m_call_impl\u001b[49m\u001b[43m(\u001b[49m\u001b[38;5;241;43m*\u001b[39;49m\u001b[43margs\u001b[49m\u001b[43m,\u001b[49m\u001b[43m \u001b[49m\u001b[38;5;241;43m*\u001b[39;49m\u001b[38;5;241;43m*\u001b[39;49m\u001b[43mkwargs\u001b[49m\u001b[43m)\u001b[49m\n",
      "File \u001b[0;32m~/.local/lib/python3.10/site-packages/torch/nn/modules/module.py:1747\u001b[0m, in \u001b[0;36mModule._call_impl\u001b[0;34m(self, *args, **kwargs)\u001b[0m\n\u001b[1;32m   1742\u001b[0m \u001b[38;5;66;03m# If we don't have any hooks, we want to skip the rest of the logic in\u001b[39;00m\n\u001b[1;32m   1743\u001b[0m \u001b[38;5;66;03m# this function, and just call forward.\u001b[39;00m\n\u001b[1;32m   1744\u001b[0m \u001b[38;5;28;01mif\u001b[39;00m \u001b[38;5;129;01mnot\u001b[39;00m (\u001b[38;5;28mself\u001b[39m\u001b[38;5;241m.\u001b[39m_backward_hooks \u001b[38;5;129;01mor\u001b[39;00m \u001b[38;5;28mself\u001b[39m\u001b[38;5;241m.\u001b[39m_backward_pre_hooks \u001b[38;5;129;01mor\u001b[39;00m \u001b[38;5;28mself\u001b[39m\u001b[38;5;241m.\u001b[39m_forward_hooks \u001b[38;5;129;01mor\u001b[39;00m \u001b[38;5;28mself\u001b[39m\u001b[38;5;241m.\u001b[39m_forward_pre_hooks\n\u001b[1;32m   1745\u001b[0m         \u001b[38;5;129;01mor\u001b[39;00m _global_backward_pre_hooks \u001b[38;5;129;01mor\u001b[39;00m _global_backward_hooks\n\u001b[1;32m   1746\u001b[0m         \u001b[38;5;129;01mor\u001b[39;00m _global_forward_hooks \u001b[38;5;129;01mor\u001b[39;00m _global_forward_pre_hooks):\n\u001b[0;32m-> 1747\u001b[0m     \u001b[38;5;28;01mreturn\u001b[39;00m \u001b[43mforward_call\u001b[49m\u001b[43m(\u001b[49m\u001b[38;5;241;43m*\u001b[39;49m\u001b[43margs\u001b[49m\u001b[43m,\u001b[49m\u001b[43m \u001b[49m\u001b[38;5;241;43m*\u001b[39;49m\u001b[38;5;241;43m*\u001b[39;49m\u001b[43mkwargs\u001b[49m\u001b[43m)\u001b[49m\n\u001b[1;32m   1749\u001b[0m result \u001b[38;5;241m=\u001b[39m \u001b[38;5;28;01mNone\u001b[39;00m\n\u001b[1;32m   1750\u001b[0m called_always_called_hooks \u001b[38;5;241m=\u001b[39m \u001b[38;5;28mset\u001b[39m()\n",
      "File \u001b[0;32m~/.local/lib/python3.10/site-packages/torch/nn/modules/container.py:250\u001b[0m, in \u001b[0;36mSequential.forward\u001b[0;34m(self, input)\u001b[0m\n\u001b[1;32m    248\u001b[0m \u001b[38;5;28;01mdef\u001b[39;00m \u001b[38;5;21mforward\u001b[39m(\u001b[38;5;28mself\u001b[39m, \u001b[38;5;28minput\u001b[39m):\n\u001b[1;32m    249\u001b[0m     \u001b[38;5;28;01mfor\u001b[39;00m module \u001b[38;5;129;01min\u001b[39;00m \u001b[38;5;28mself\u001b[39m:\n\u001b[0;32m--> 250\u001b[0m         \u001b[38;5;28minput\u001b[39m \u001b[38;5;241m=\u001b[39m \u001b[43mmodule\u001b[49m\u001b[43m(\u001b[49m\u001b[38;5;28;43minput\u001b[39;49m\u001b[43m)\u001b[49m\n\u001b[1;32m    251\u001b[0m     \u001b[38;5;28;01mreturn\u001b[39;00m \u001b[38;5;28minput\u001b[39m\n",
      "File \u001b[0;32m~/.local/lib/python3.10/site-packages/torch/nn/modules/module.py:1736\u001b[0m, in \u001b[0;36mModule._wrapped_call_impl\u001b[0;34m(self, *args, **kwargs)\u001b[0m\n\u001b[1;32m   1734\u001b[0m     \u001b[38;5;28;01mreturn\u001b[39;00m \u001b[38;5;28mself\u001b[39m\u001b[38;5;241m.\u001b[39m_compiled_call_impl(\u001b[38;5;241m*\u001b[39margs, \u001b[38;5;241m*\u001b[39m\u001b[38;5;241m*\u001b[39mkwargs)  \u001b[38;5;66;03m# type: ignore[misc]\u001b[39;00m\n\u001b[1;32m   1735\u001b[0m \u001b[38;5;28;01melse\u001b[39;00m:\n\u001b[0;32m-> 1736\u001b[0m     \u001b[38;5;28;01mreturn\u001b[39;00m \u001b[38;5;28;43mself\u001b[39;49m\u001b[38;5;241;43m.\u001b[39;49m\u001b[43m_call_impl\u001b[49m\u001b[43m(\u001b[49m\u001b[38;5;241;43m*\u001b[39;49m\u001b[43margs\u001b[49m\u001b[43m,\u001b[49m\u001b[43m \u001b[49m\u001b[38;5;241;43m*\u001b[39;49m\u001b[38;5;241;43m*\u001b[39;49m\u001b[43mkwargs\u001b[49m\u001b[43m)\u001b[49m\n",
      "File \u001b[0;32m~/.local/lib/python3.10/site-packages/torch/nn/modules/module.py:1747\u001b[0m, in \u001b[0;36mModule._call_impl\u001b[0;34m(self, *args, **kwargs)\u001b[0m\n\u001b[1;32m   1742\u001b[0m \u001b[38;5;66;03m# If we don't have any hooks, we want to skip the rest of the logic in\u001b[39;00m\n\u001b[1;32m   1743\u001b[0m \u001b[38;5;66;03m# this function, and just call forward.\u001b[39;00m\n\u001b[1;32m   1744\u001b[0m \u001b[38;5;28;01mif\u001b[39;00m \u001b[38;5;129;01mnot\u001b[39;00m (\u001b[38;5;28mself\u001b[39m\u001b[38;5;241m.\u001b[39m_backward_hooks \u001b[38;5;129;01mor\u001b[39;00m \u001b[38;5;28mself\u001b[39m\u001b[38;5;241m.\u001b[39m_backward_pre_hooks \u001b[38;5;129;01mor\u001b[39;00m \u001b[38;5;28mself\u001b[39m\u001b[38;5;241m.\u001b[39m_forward_hooks \u001b[38;5;129;01mor\u001b[39;00m \u001b[38;5;28mself\u001b[39m\u001b[38;5;241m.\u001b[39m_forward_pre_hooks\n\u001b[1;32m   1745\u001b[0m         \u001b[38;5;129;01mor\u001b[39;00m _global_backward_pre_hooks \u001b[38;5;129;01mor\u001b[39;00m _global_backward_hooks\n\u001b[1;32m   1746\u001b[0m         \u001b[38;5;129;01mor\u001b[39;00m _global_forward_hooks \u001b[38;5;129;01mor\u001b[39;00m _global_forward_pre_hooks):\n\u001b[0;32m-> 1747\u001b[0m     \u001b[38;5;28;01mreturn\u001b[39;00m \u001b[43mforward_call\u001b[49m\u001b[43m(\u001b[49m\u001b[38;5;241;43m*\u001b[39;49m\u001b[43margs\u001b[49m\u001b[43m,\u001b[49m\u001b[43m \u001b[49m\u001b[38;5;241;43m*\u001b[39;49m\u001b[38;5;241;43m*\u001b[39;49m\u001b[43mkwargs\u001b[49m\u001b[43m)\u001b[49m\n\u001b[1;32m   1749\u001b[0m result \u001b[38;5;241m=\u001b[39m \u001b[38;5;28;01mNone\u001b[39;00m\n\u001b[1;32m   1750\u001b[0m called_always_called_hooks \u001b[38;5;241m=\u001b[39m \u001b[38;5;28mset\u001b[39m()\n",
      "File \u001b[0;32m~/.local/lib/python3.10/site-packages/torch/nn/modules/conv.py:554\u001b[0m, in \u001b[0;36mConv2d.forward\u001b[0;34m(self, input)\u001b[0m\n\u001b[1;32m    553\u001b[0m \u001b[38;5;28;01mdef\u001b[39;00m \u001b[38;5;21mforward\u001b[39m(\u001b[38;5;28mself\u001b[39m, \u001b[38;5;28minput\u001b[39m: Tensor) \u001b[38;5;241m-\u001b[39m\u001b[38;5;241m>\u001b[39m Tensor:\n\u001b[0;32m--> 554\u001b[0m     \u001b[38;5;28;01mreturn\u001b[39;00m \u001b[38;5;28;43mself\u001b[39;49m\u001b[38;5;241;43m.\u001b[39;49m\u001b[43m_conv_forward\u001b[49m\u001b[43m(\u001b[49m\u001b[38;5;28;43minput\u001b[39;49m\u001b[43m,\u001b[49m\u001b[43m \u001b[49m\u001b[38;5;28;43mself\u001b[39;49m\u001b[38;5;241;43m.\u001b[39;49m\u001b[43mweight\u001b[49m\u001b[43m,\u001b[49m\u001b[43m \u001b[49m\u001b[38;5;28;43mself\u001b[39;49m\u001b[38;5;241;43m.\u001b[39;49m\u001b[43mbias\u001b[49m\u001b[43m)\u001b[49m\n",
      "File \u001b[0;32m~/.local/lib/python3.10/site-packages/torch/nn/modules/conv.py:549\u001b[0m, in \u001b[0;36mConv2d._conv_forward\u001b[0;34m(self, input, weight, bias)\u001b[0m\n\u001b[1;32m    537\u001b[0m \u001b[38;5;28;01mif\u001b[39;00m \u001b[38;5;28mself\u001b[39m\u001b[38;5;241m.\u001b[39mpadding_mode \u001b[38;5;241m!=\u001b[39m \u001b[38;5;124m\"\u001b[39m\u001b[38;5;124mzeros\u001b[39m\u001b[38;5;124m\"\u001b[39m:\n\u001b[1;32m    538\u001b[0m     \u001b[38;5;28;01mreturn\u001b[39;00m F\u001b[38;5;241m.\u001b[39mconv2d(\n\u001b[1;32m    539\u001b[0m         F\u001b[38;5;241m.\u001b[39mpad(\n\u001b[1;32m    540\u001b[0m             \u001b[38;5;28minput\u001b[39m, \u001b[38;5;28mself\u001b[39m\u001b[38;5;241m.\u001b[39m_reversed_padding_repeated_twice, mode\u001b[38;5;241m=\u001b[39m\u001b[38;5;28mself\u001b[39m\u001b[38;5;241m.\u001b[39mpadding_mode\n\u001b[0;32m   (...)\u001b[0m\n\u001b[1;32m    547\u001b[0m         \u001b[38;5;28mself\u001b[39m\u001b[38;5;241m.\u001b[39mgroups,\n\u001b[1;32m    548\u001b[0m     )\n\u001b[0;32m--> 549\u001b[0m \u001b[38;5;28;01mreturn\u001b[39;00m \u001b[43mF\u001b[49m\u001b[38;5;241;43m.\u001b[39;49m\u001b[43mconv2d\u001b[49m\u001b[43m(\u001b[49m\n\u001b[1;32m    550\u001b[0m \u001b[43m    \u001b[49m\u001b[38;5;28;43minput\u001b[39;49m\u001b[43m,\u001b[49m\u001b[43m \u001b[49m\u001b[43mweight\u001b[49m\u001b[43m,\u001b[49m\u001b[43m \u001b[49m\u001b[43mbias\u001b[49m\u001b[43m,\u001b[49m\u001b[43m \u001b[49m\u001b[38;5;28;43mself\u001b[39;49m\u001b[38;5;241;43m.\u001b[39;49m\u001b[43mstride\u001b[49m\u001b[43m,\u001b[49m\u001b[43m \u001b[49m\u001b[38;5;28;43mself\u001b[39;49m\u001b[38;5;241;43m.\u001b[39;49m\u001b[43mpadding\u001b[49m\u001b[43m,\u001b[49m\u001b[43m \u001b[49m\u001b[38;5;28;43mself\u001b[39;49m\u001b[38;5;241;43m.\u001b[39;49m\u001b[43mdilation\u001b[49m\u001b[43m,\u001b[49m\u001b[43m \u001b[49m\u001b[38;5;28;43mself\u001b[39;49m\u001b[38;5;241;43m.\u001b[39;49m\u001b[43mgroups\u001b[49m\n\u001b[1;32m    551\u001b[0m \u001b[43m\u001b[49m\u001b[43m)\u001b[49m\n",
      "\u001b[0;31mRuntimeError\u001b[0m: Given groups=1, weight of size [12, 3, 5, 5], expected input[1, 1, 28, 28] to have 3 channels, but got 1 channels instead"
     ]
    }
   ],
   "source": [
    "# lr=0.1\n",
    "manager = GradientInversionAttackServerManager(\n",
    "    (1, 28, 28),\n",
    "    num_trial_per_communication=5,\n",
    "    log_interval=0,\n",
    "    num_iteration=100,\n",
    "    tv_reg_coef=0.01,\n",
    "    distancename=\"cossim\",\n",
    "    device=device,\n",
    "    lr=0.1,\n",
    ")\n",
    "GSFedAVGServer = manager.attach(FedAVGServer)\n",
    "\n",
    "client = FedAVGClient(\n",
    "    LeNet(channel=channel, hideen=hidden, num_classes=num_classes).to(device),\n",
    "    lr=0.1,\n",
    "    device=device,\n",
    ")\n",
    "server = GSFedAVGServer(\n",
    "    [client],\n",
    "    LeNet(channel=channel, hideen=hidden, num_classes=num_classes).to(device),\n",
    "    lr=0.1,\n",
    "    device=device,\n",
    ")\n",
    "\n",
    "local_dataloaders = [DataLoader(TensorDataset(x, y))]\n",
    "local_optimizers = [optim.SGD(client.parameters(), lr=0.1)]\n",
    "\n",
    "api = FedAVGAPI(\n",
    "    server,\n",
    "    [client],\n",
    "    criterion,\n",
    "    local_optimizers,\n",
    "    local_dataloaders,\n",
    "    num_communication=1,\n",
    "    local_epoch=1,\n",
    "    use_gradients=True,\n",
    "    device=device,\n",
    ")\n",
    "\n",
    "api.run()\n",
    "\n",
    "fig = plt.figure(figsize=(5, 2))\n",
    "for s, result in enumerate(server.attack_results[0]):\n",
    "    ax = fig.add_subplot(1, len(server.attack_results[0]), s + 1)\n",
    "    ax.imshow(result[0].cpu().detach().numpy()[0][0], cmap=\"gray\")\n",
    "    ax.axis(\"off\")\n",
    "plt.tight_layout()\n",
    "plt.show()"
   ]
  },
  {
   "cell_type": "markdown",
   "metadata": {
    "id": "dHNW787NAhFR"
   },
   "source": [
    "### iDLG Attack\n",
    "\n",
    "https://arxiv.org/abs/2001.02610\n",
    "\n",
    "- distance metric = L2 norm\n",
    "- analytically estimate a label from the gradients"
   ]
  },
  {
   "cell_type": "code",
   "execution_count": null,
   "metadata": {
    "colab": {
     "base_uri": "https://localhost:8080/",
     "height": 108
    },
    "id": "bv0qW14888Kh",
    "outputId": "dc077c7c-847b-4826-abc6-1590c1cdc4a1"
   },
   "outputs": [
    {
     "name": "stdout",
     "output_type": "stream",
     "text": [
      "communication 0, epoch 0: client-1 2.371312141418457\n"
     ]
    },
    {
     "data": {
      "image/png": "[encoded data removed]",
      "text/plain": [
       "<Figure size 500x200 with 5 Axes>"
      ]
     },
     "metadata": {},
     "output_type": "display_data"
    }
   ],
   "source": [
    "# lr=1.0\n",
    "manager = GradientInversionAttackServerManager(\n",
    "    (1, 28, 28),\n",
    "    num_trial_per_communication=5,\n",
    "    log_interval=0,\n",
    "    num_iteration=1000,\n",
    "    optimizer_class=torch.optim.SGD,\n",
    "    distancename=\"l2\",\n",
    "    optimize_label=False,\n",
    "    device=device,\n",
    "    lr=1.0,\n",
    ")\n",
    "iDLGFedAVGServer = manager.attach(FedAVGServer)\n",
    "\n",
    "client = FedAVGClient(\n",
    "    LeNet(channel=channel, hideen=hidden, num_classes=num_classes).to(device),\n",
    "    lr=1.0,\n",
    "    device=device,\n",
    ")\n",
    "server = iDLGFedAVGServer(\n",
    "    [client],\n",
    "    LeNet(channel=channel, hideen=hidden, num_classes=num_classes).to(device),\n",
    "    lr=1.0,\n",
    "    device=device,\n",
    ")\n",
    "\n",
    "local_dataloaders = [DataLoader(TensorDataset(x, y))]\n",
    "local_optimizers = [optim.SGD(client.parameters(), lr=1.0)]\n",
    "\n",
    "api = FedAVGAPI(\n",
    "    server,\n",
    "    [client],\n",
    "    criterion,\n",
    "    local_optimizers,\n",
    "    local_dataloaders,\n",
    "    num_communication=1,\n",
    "    local_epoch=1,\n",
    "    use_gradients=True,\n",
    "    device=device,\n",
    ")\n",
    "\n",
    "api.run()\n",
    "\n",
    "fig = plt.figure(figsize=(5, 2))\n",
    "for s, result in enumerate(server.attack_results[0]):\n",
    "    ax = fig.add_subplot(1, len(server.attack_results[0]), s + 1)\n",
    "    ax.imshow(result[0].cpu().detach().numpy()[0][0], cmap=\"gray\")\n",
    "    ax.axis(\"off\")\n",
    "plt.tight_layout()\n",
    "plt.show()"
   ]
  },
  {
   "cell_type": "markdown",
   "metadata": {
    "id": "-CTIH-k_AJ3x"
   },
   "source": [
    "### CPL Attack\n",
    "\n",
    "https://arxiv.org/abs/2004.10397\n",
    "\n",
    "- distance metric = L2 norm\n",
    "- analytically estimate an label from the gradients\n",
    "- regularization: label-matching"
   ]
  },
  {
   "cell_type": "code",
   "execution_count": null,
   "metadata": {
    "colab": {
     "base_uri": "https://localhost:8080/",
     "height": 108
    },
    "id": "Lz-UJfvR9MDZ",
    "outputId": "69b1cc96-e80f-4fac-b641-b9885fe4bd1b"
   },
   "outputs": [
    {
     "name": "stdout",
     "output_type": "stream",
     "text": [
      "communication 0, epoch 0: client-1 2.371311902999878\n"
     ]
    },
    {
     "data": {
      "image/png": "[encoded data removed]",
      "text/plain": [
       "<Figure size 500x200 with 5 Axes>"
      ]
     },
     "metadata": {},
     "output_type": "display_data"
    }
   ],
   "source": [
    "# lr=1.0\n",
    "manager = GradientInversionAttackServerManager(\n",
    "    (1, 28, 28),\n",
    "    num_trial_per_communication=5,\n",
    "    log_interval=0,\n",
    "    num_iteration=1000,\n",
    "    optimizer_class=torch.optim.SGD,\n",
    "    distancename=\"l2\",\n",
    "    optimize_label=False,\n",
    "    lm_reg_coef=0.01,\n",
    "    lr=1.0,\n",
    ")\n",
    "CPLFedAVGServer = manager.attach(FedAVGServer)\n",
    "\n",
    "client = FedAVGClient(\n",
    "    LeNet(channel=channel, hideen=hidden, num_classes=num_classes), lr=1.0\n",
    ")\n",
    "server = CPLFedAVGServer(\n",
    "    [client], LeNet(channel=channel, hideen=hidden, num_classes=num_classes), lr=1.0\n",
    ")\n",
    "\n",
    "local_dataloaders = [DataLoader(TensorDataset(x, y))]\n",
    "local_optimizers = [optim.SGD(client.parameters(), lr=1.0)]\n",
    "\n",
    "api = FedAVGAPI(\n",
    "    server,\n",
    "    [client],\n",
    "    criterion,\n",
    "    local_optimizers,\n",
    "    local_dataloaders,\n",
    "    num_communication=1,\n",
    "    local_epoch=1,\n",
    "    use_gradients=True,\n",
    ")\n",
    "\n",
    "api.run()\n",
    "\n",
    "fig = plt.figure(figsize=(5, 2))\n",
    "for s, result in enumerate(server.attack_results[0]):\n",
    "    ax = fig.add_subplot(1, len(server.attack_results[0]), s + 1)\n",
    "    ax.imshow(result[0].cpu().detach().numpy()[0][0], cmap=\"gray\")\n",
    "    ax.axis(\"off\")\n",
    "plt.tight_layout()\n",
    "plt.show()"
   ]
  },
  {
   "cell_type": "markdown",
   "metadata": {
    "id": "e-TYM84K_9wn"
   },
   "source": [
    "## Reconstruct Batched Data\n",
    "\n",
    "Second, we simulate the situatino with larger batch size. We try to recover the bellow three images."
   ]
  },
  {
   "cell_type": "code",
   "execution_count": 10,
   "metadata": {
    "colab": {
     "base_uri": "https://localhost:8080/",
     "height": 89
    },
    "id": "CIrFdMAF-4LX",
    "outputId": "a65a3711-2f7a-4045-95e4-e8f2592d5b69"
   },
   "outputs": [
    {
     "data": {
      "image/png": "[encoded data removed]",
      "text/plain": [
       "<Figure size 300x200 with 3 Axes>"
      ]
     },
     "metadata": {},
     "output_type": "display_data"
    }
   ],
   "source": [
    "batch_size = 3\n",
    "x_batch = xs[:batch_size]\n",
    "y_batch = ys[:batch_size]\n",
    "\n",
    "fig = plt.figure(figsize=(3, 2))\n",
    "for bi in range(batch_size):\n",
    "    ax = fig.add_subplot(1, batch_size, bi + 1)\n",
    "    ax.imshow(x_batch[bi].detach().numpy()[0], cmap=\"gray\")\n",
    "    ax.axis(\"off\")\n",
    "plt.tight_layout()\n",
    "plt.show()"
   ]
  },
  {
   "cell_type": "markdown",
   "metadata": {
    "id": "Z8Sh_1Fn_VeG"
   },
   "source": [
    "### GradInversion\n",
    "\n",
    "https://arxiv.org/abs/2104.07586\n",
    "\n",
    "- distance metric = L2 norm\n",
    "- analytically estimate labels from the gradients\n",
    "- reguralization: total-variance, l2, bn, and group-consistency"
   ]
  },
  {
   "cell_type": "code",
   "execution_count": 11,
   "metadata": {
    "colab": {
     "base_uri": "https://localhost:8080/",
     "height": 89
    },
    "id": "5Dnp5tQoA1qm",
    "outputId": "d538b96e-e2a6-46e0-b9b6-f36a34a07640"
   },
   "outputs": [
    {
     "data": {
      "image/png": "[encoded data removed]",
      "text/plain": [
       "<Figure size 300x200 with 3 Axes>"
      ]
     },
     "metadata": {},
     "output_type": "display_data"
    }
   ],
   "source": [
    "from aijack.attack.inversion import GradientInversion_Attack\n",
    "\n",
    "net = LeNet(channel=channel, hideen=hidden, num_classes=num_classes)\n",
    "pred = net(x_batch)\n",
    "loss = criterion(pred, y_batch)\n",
    "received_gradients = torch.autograd.grad(loss, net.parameters())\n",
    "received_gradients = [cg.detach() for cg in received_gradients]\n",
    "\n",
    "gradinversion = GradientInversion_Attack(\n",
    "    net,\n",
    "    (1, 28, 28),\n",
    "    num_iteration=1000,\n",
    "    lr=1e2,\n",
    "    log_interval=0,\n",
    "    optimizer_class=torch.optim.SGD,\n",
    "    distancename=\"l2\",\n",
    "    optimize_label=False,\n",
    "    bn_reg_layers=[net.body[1], net.body[4], net.body[7]],\n",
    "    group_num=3,\n",
    "    tv_reg_coef=0.00,\n",
    "    l2_reg_coef=0.0001,\n",
    "    bn_reg_coef=0.001,\n",
    "    gc_reg_coef=0.001,\n",
    ")\n",
    "\n",
    "result = gradinversion.group_attack(received_gradients, batch_size=batch_size)\n",
    "\n",
    "fig = plt.figure(figsize=(3, 2))\n",
    "for bid in range(batch_size):\n",
    "    ax1 = fig.add_subplot(1, batch_size, bid + 1)\n",
    "    ax1.imshow((sum(result[0]) / len(result[0])).detach().numpy()[bid][0], cmap=\"gray\")\n",
    "    ax1.axis(\"off\")\n",
    "plt.tight_layout()\n",
    "plt.show()"
   ]
  }
 ],
 "metadata": {
  "accelerator": "GPU",
  "colab": {
   "provenance": []
  },
  "gpuClass": "standard",
  "kernelspec": {
   "display_name": "Python 3",
   "language": "python",
   "name": "python3"
  },
  "language_info": {
   "codemirror_mode": {
    "name": "ipython",
    "version": 3
   },
   "file_extension": ".py",
   "mimetype": "text/x-python",
   "name": "python",
   "nbconvert_exporter": "python",
   "pygments_lexer": "ipython3",
   "version": "3.10.12"
  }
 },
 "nbformat": 4,
 "nbformat_minor": 0
}
