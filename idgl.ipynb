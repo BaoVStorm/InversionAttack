{
 "cells": [
  {
   "cell_type": "code",
   "execution_count": 14,
   "metadata": {},
   "outputs": [],
   "source": [
    "import torch\n",
    "import torch.nn as nn\n",
    "import matplotlib.pyplot as plt\n",
    "from torchvision import datasets, transforms\n",
    "from torch.utils.data import DataLoader\n"
   ]
  },
  {
   "cell_type": "code",
   "execution_count": 11,
   "metadata": {},
   "outputs": [],
   "source": [
    "# Define a simple LeNet model\n",
    "class LeNet(nn.Module):\n",
    "    def __init__(self, channel=3, hidden=768, num_classes=10):\n",
    "        super(LeNet, self).__init__()\n",
    "        self.body = nn.Sequential(\n",
    "            nn.Conv2d(channel, 12, kernel_size=5, stride=2, padding=2),\n",
    "            nn.Sigmoid(),\n",
    "            nn.Conv2d(12, 12, kernel_size=5, stride=2, padding=2),\n",
    "            nn.Sigmoid(),\n",
    "            nn.Conv2d(12, 12, kernel_size=5, stride=1, padding=2),\n",
    "            nn.Sigmoid(),\n",
    "        )\n",
    "        self.fc = nn.Linear(hidden, num_classes)\n",
    "\n",
    "    def forward(self, x):\n",
    "        x = self.body(x)\n",
    "        x = x.view(x.size(0), -1)  # Flatten the tensor\n",
    "        return self.fc(x)"
   ]
  },
  {
   "cell_type": "code",
   "execution_count": 15,
   "metadata": {},
   "outputs": [],
   "source": [
    "\n",
    "# Dataset loader (MNIST in this case)\n",
    "def get_dataset(dataset_name='MNIST'):\n",
    "    if dataset_name == 'MNIST':\n",
    "        transform = transforms.Compose([transforms.Resize((32, 32)), transforms.ToTensor()])\n",
    "        train_dataset = datasets.MNIST(root=\"MNIST/.\", train=True, download=True, transform=transform)\n",
    "        test_dataset = datasets.MNIST(root=\"MNIST/.\", train=False, download=True, transform=transform)\n",
    "        return train_dataset, test_dataset\n",
    "    else:\n",
    "        raise ValueError(\"Unsupported dataset\")\n"
   ]
  },
  {
   "cell_type": "code",
   "execution_count": 16,
   "metadata": {},
   "outputs": [
    {
     "name": "stdout",
     "output_type": "stream",
     "text": [
      "Epoch [1/10], Loss: 2.3106, Accuracy: 10.23%\n"
     ]
    },
    {
     "data": {
      "image/png": "[encoded data removed]",
      "text/plain": [
       "<Figure size 1000x200 with 5 Axes>"
      ]
     },
     "metadata": {},
     "output_type": "display_data"
    },
    {
     "name": "stdout",
     "output_type": "stream",
     "text": [
      "Epoch [2/10], Loss: 2.3052, Accuracy: 10.62%\n",
      "Epoch [3/10], Loss: 2.3035, Accuracy: 10.79%\n",
      "Epoch [4/10], Loss: 2.3027, Accuracy: 10.74%\n",
      "Epoch [5/10], Loss: 2.3025, Accuracy: 10.94%\n",
      "Epoch [6/10], Loss: 2.3021, Accuracy: 11.08%\n"
     ]
    },
    {
     "data": {
      "image/png": "[encoded data removed]",
      "text/plain": [
       "<Figure size 1000x200 with 5 Axes>"
      ]
     },
     "metadata": {},
     "output_type": "display_data"
    },
    {
     "name": "stdout",
     "output_type": "stream",
     "text": [
      "Epoch [7/10], Loss: 2.3019, Accuracy: 11.11%\n",
      "Epoch [8/10], Loss: 2.3018, Accuracy: 11.18%\n",
      "Epoch [9/10], Loss: 2.3017, Accuracy: 11.20%\n",
      "Epoch [10/10], Loss: 2.3014, Accuracy: 11.14%\n"
     ]
    }
   ],
   "source": [
    "# Main training loop\n",
    "def main():\n",
    "    # Parameters\n",
    "    batch_size = 32\n",
    "    lr = 0.01\n",
    "    num_epochs = 10\n",
    "\n",
    "    # Load dataset\n",
    "    train_dataset, test_dataset = get_dataset('MNIST')\n",
    "    train_loader = DataLoader(train_dataset, batch_size=batch_size, shuffle=True)\n",
    "    test_loader = DataLoader(test_dataset, batch_size=batch_size, shuffle=False)\n",
    "\n",
    "    # Initialize model, loss function, and optimizer\n",
    "    model = LeNet(channel=1, hidden=768, num_classes=10)\n",
    "    criterion = nn.CrossEntropyLoss()\n",
    "    optimizer = torch.optim.SGD(model.parameters(), lr=lr)\n",
    "\n",
    "    # Training loop\n",
    "    for epoch in range(num_epochs):\n",
    "        model.train()\n",
    "        running_loss = 0.0\n",
    "        correct = 0\n",
    "        total = 0\n",
    "\n",
    "        for images, labels in train_loader:\n",
    "            optimizer.zero_grad()\n",
    "            outputs = model(images)\n",
    "            loss = criterion(outputs, labels)\n",
    "            loss.backward()\n",
    "            optimizer.step()\n",
    "\n",
    "            running_loss += loss.item()\n",
    "            _, predicted = torch.max(outputs, 1)\n",
    "            total += labels.size(0)\n",
    "            correct += (predicted == labels).sum().item()\n",
    "\n",
    "        avg_loss = running_loss / len(train_loader)\n",
    "        accuracy = 100 * correct / total\n",
    "\n",
    "        # Print loss and accuracy every epoch\n",
    "        print(f\"Epoch [{epoch+1}/{num_epochs}], Loss: {avg_loss:.4f}, Accuracy: {accuracy:.2f}%\")\n",
    "\n",
    "        # Visualize some sample images and predictions\n",
    "        if epoch % 5 == 0:  # Show every 5 epochs\n",
    "            model.eval()\n",
    "            images, labels = next(iter(test_loader))\n",
    "            outputs = model(images)\n",
    "            _, predicted = torch.max(outputs, 1)\n",
    "\n",
    "            # Plot some sample images and their predicted labels\n",
    "            fig, axes = plt.subplots(1, 5, figsize=(10, 2))\n",
    "            for i in range(5):\n",
    "                axes[i].imshow(images[i].squeeze(), cmap='gray')\n",
    "                axes[i].set_title(f'Pred: {predicted[i].item()}')\n",
    "                axes[i].axis('off')\n",
    "            plt.show()\n",
    "\n",
    "if __name__ == '__main__':\n",
    "    main()"
   ]
  }
 ],
 "metadata": {
  "kernelspec": {
   "display_name": "Python 3",
   "language": "python",
   "name": "python3"
  },
  "language_info": {
   "codemirror_mode": {
    "name": "ipython",
    "version": 3
   },
   "file_extension": ".py",
   "mimetype": "text/x-python",
   "name": "python",
   "nbconvert_exporter": "python",
   "pygments_lexer": "ipython3",
   "version": "3.10.12"
  }
 },
 "nbformat": 4,
 "nbformat_minor": 2
}
