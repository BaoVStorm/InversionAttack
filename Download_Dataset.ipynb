{
 "cells": [
  {
   "attachments": {},
   "cell_type": "markdown",
   "metadata": {
    "id": "k0rUERH-551c"
   },
   "source": [
    "# Download Dataset for Project"
   ]
  },
  {
   "cell_type": "markdown",
   "metadata": {},
   "source": [
    "## Thư viện"
   ]
  },
  {
   "cell_type": "code",
   "execution_count": 2,
   "metadata": {
    "id": "2b1JISUQ5MXM"
   },
   "outputs": [],
   "source": [
    "import os\n",
    "import glob\n",
    "import torchvision\n",
    "import torchvision.transforms as transforms\n",
    "from matplotlib import pyplot as plt\n",
    "from torch.utils.data import DataLoader\n",
    "from aijack.utils import NumpyDataset\n",
    "\n",
    "import warnings\n",
    "warnings.filterwarnings(\"ignore\")"
   ]
  },
  {
   "cell_type": "markdown",
   "metadata": {},
   "source": [
    "## Data "
   ]
  },
  {
   "cell_type": "markdown",
   "metadata": {},
   "source": [
    "1. MNIST  -  (LeNet hoặc MLP) ko cần resnet vì ảnh đơn giản\n",
    "- Loại dữ liệu: Ảnh chữ số viết tay (đen trắng).\n",
    "- Kích thước ảnh: 28x28 pixel, 1 kênh (grayscale).\n",
    "- Số lớp: 10 (các chữ số từ 0 đến 9).\n",
    "- Số lượng mẫu: 70,000 (60,000 ảnh huấn luyện, 10,000 ảnh kiểm tra).\n",
    "----------\n",
    "2. LFW (Labeled Faces in the Wild)  -  (ResNet hoặc FaceNet)\n",
    "- Loại dữ liệu: Ảnh khuôn mặt (màu, RGB).\n",
    "- Kích thước ảnh: 62x47 pixel, 3 kênh (RGB).\n",
    "- Số lớp:\n",
    "- Phụ thuộc vào chế độ sử dụng:\n",
    "- Binary classification: Nhận diện cặp ảnh có cùng danh tính hay không.\n",
    "- Multi-class classification: Phân loại dựa trên danh tính (5,749 danh tính trong dataset đầy đủ).\n",
    "- Số lượng mẫu: 13,233 ảnh khuôn mặt từ 5,749 người.\n",
    "-----------\n",
    "3. CIFAR-100  -  (ResNet và LFW)\n",
    "- Loại dữ liệu: Ảnh màu (RGB).\n",
    "- Kích thước ảnh: 32x32 pixel, 3 kênh (RGB).\n",
    "- Số lớp: 100 (mỗi lớp chứa 600 ảnh).\n",
    "- Số lượng mẫu: 60,000 (50,000 ảnh huấn luyện, 10,000 ảnh kiểm tra)."
   ]
  },
  {
   "cell_type": "code",
   "execution_count": 2,
   "metadata": {},
   "outputs": [],
   "source": [
    "def PrintInfomation(dataloader, shape_img, num_classes, channel, hidden, num_seeds, num_data = 1):\n",
    "    print(\"Shape of images:\", shape_img)\n",
    "    print(\"Number of classes:\", num_classes)\n",
    "    print(\"Number of channels:\", channel)\n",
    "    print(\"Hidden layer size:\", hidden)\n",
    "    print(\"Number of seeds:\", num_seeds)\n",
    "\n",
    "    # Lấy một batch từ dataloader\n",
    "    for images, labels in dataloader:\n",
    "        print(\"-----------------\")\n",
    "        print(\"Batch size:\", images.size(0))\n",
    "        print(\"Image shape:\", images.shape)  # (batch_size, channels, height, width)\n",
    "        print(\"Labels shape:\", labels.shape)  # (batch_size,)\n",
    "        break\n",
    "\n",
    "    print()\n",
    "\n",
    "    for i, data in enumerate(dataloader):\n",
    "        if i < num_data:\n",
    "            xs, ys = data[0], data[1]\n",
    "            \n",
    "            x = xs[:1]\n",
    "            y = ys[:1]\n",
    "\n",
    "            fig = plt.figure(figsize=(1, 1))\n",
    "            plt.axis(\"off\")\n",
    "            plt.imshow(x.detach().numpy()[0][0], cmap=\"gray\")\n",
    "            plt.show()\n",
    "        else:\n",
    "            break"
   ]
  },
  {
   "cell_type": "code",
   "execution_count": 3,
   "metadata": {},
   "outputs": [
    {
     "name": "stdout",
     "output_type": "stream",
     "text": [
      "Downloading http://yann.lecun.com/exdb/mnist/train-images-idx3-ubyte.gz\n",
      "Failed to download (trying next):\n",
      "HTTP Error 403: Forbidden\n",
      "\n",
      "Downloading https://ossci-datasets.s3.amazonaws.com/mnist/train-images-idx3-ubyte.gz\n",
      "Downloading https://ossci-datasets.s3.amazonaws.com/mnist/train-images-idx3-ubyte.gz to dataset/MNIST/./MNIST/raw/train-images-idx3-ubyte.gz\n"
     ]
    },
    {
     "name": "stderr",
     "output_type": "stream",
     "text": [
      "100%|██████████| 9.91M/9.91M [00:03<00:00, 2.53MB/s]\n"
     ]
    },
    {
     "name": "stdout",
     "output_type": "stream",
     "text": [
      "Extracting dataset/MNIST/./MNIST/raw/train-images-idx3-ubyte.gz to dataset/MNIST/./MNIST/raw\n",
      "\n",
      "Downloading http://yann.lecun.com/exdb/mnist/train-labels-idx1-ubyte.gz\n",
      "Failed to download (trying next):\n",
      "HTTP Error 403: Forbidden\n",
      "\n",
      "Downloading https://ossci-datasets.s3.amazonaws.com/mnist/train-labels-idx1-ubyte.gz\n",
      "Downloading https://ossci-datasets.s3.amazonaws.com/mnist/train-labels-idx1-ubyte.gz to dataset/MNIST/./MNIST/raw/train-labels-idx1-ubyte.gz\n"
     ]
    },
    {
     "name": "stderr",
     "output_type": "stream",
     "text": [
      "100%|██████████| 28.9k/28.9k [00:00<00:00, 106kB/s]\n"
     ]
    },
    {
     "name": "stdout",
     "output_type": "stream",
     "text": [
      "Extracting dataset/MNIST/./MNIST/raw/train-labels-idx1-ubyte.gz to dataset/MNIST/./MNIST/raw\n",
      "\n",
      "Downloading http://yann.lecun.com/exdb/mnist/t10k-images-idx3-ubyte.gz\n",
      "Failed to download (trying next):\n",
      "HTTP Error 403: Forbidden\n",
      "\n",
      "Downloading https://ossci-datasets.s3.amazonaws.com/mnist/t10k-images-idx3-ubyte.gz\n",
      "Downloading https://ossci-datasets.s3.amazonaws.com/mnist/t10k-images-idx3-ubyte.gz to dataset/MNIST/./MNIST/raw/t10k-images-idx3-ubyte.gz\n"
     ]
    },
    {
     "name": "stderr",
     "output_type": "stream",
     "text": [
      "100%|██████████| 1.65M/1.65M [00:07<00:00, 232kB/s] \n"
     ]
    },
    {
     "name": "stdout",
     "output_type": "stream",
     "text": [
      "Extracting dataset/MNIST/./MNIST/raw/t10k-images-idx3-ubyte.gz to dataset/MNIST/./MNIST/raw\n",
      "\n",
      "Downloading http://yann.lecun.com/exdb/mnist/t10k-labels-idx1-ubyte.gz\n",
      "Failed to download (trying next):\n",
      "HTTP Error 403: Forbidden\n",
      "\n",
      "Downloading https://ossci-datasets.s3.amazonaws.com/mnist/t10k-labels-idx1-ubyte.gz\n",
      "Downloading https://ossci-datasets.s3.amazonaws.com/mnist/t10k-labels-idx1-ubyte.gz to dataset/MNIST/./MNIST/raw/t10k-labels-idx1-ubyte.gz\n"
     ]
    },
    {
     "name": "stderr",
     "output_type": "stream",
     "text": [
      "100%|██████████| 4.54k/4.54k [00:00<00:00, 5.17MB/s]\n"
     ]
    },
    {
     "name": "stdout",
     "output_type": "stream",
     "text": [
      "Extracting dataset/MNIST/./MNIST/raw/t10k-labels-idx1-ubyte.gz to dataset/MNIST/./MNIST/raw\n",
      "\n",
      "Shape of images: (28, 28)\n",
      "Number of classes: 10\n",
      "Number of channels: 1\n",
      "Hidden layer size: 588\n",
      "Number of seeds: 5\n",
      "-----------------\n",
      "Batch size: 64\n",
      "Image shape: torch.Size([64, 1, 28, 28])\n",
      "Labels shape: torch.Size([64])\n",
      "\n"
     ]
    },
    {
     "data": {
      "image/png": "[encoded data removed]",
      "text/plain": [
       "<Figure size 100x100 with 1 Axes>"
      ]
     },
     "metadata": {},
     "output_type": "display_data"
    }
   ],
   "source": [
    "# MNIST\n",
    "def prepare_dataloader_MNIST(path=\"dataset/MNIST/.\", batch_size=64, shuffle=True):\n",
    "    at_t_dataset_train = torchvision.datasets.MNIST(\n",
    "        root=path, train=True, download=True\n",
    "    )\n",
    "\n",
    "    transform = transforms.Compose(\n",
    "        [transforms.ToTensor(), transforms.Normalize((0.5,), (0.5,))] # MNIST chỉ có 1 channel\n",
    "    )\n",
    "\n",
    "    dataset = NumpyDataset(\n",
    "        at_t_dataset_train.data.numpy(),\n",
    "        at_t_dataset_train.targets.numpy(),\n",
    "        transform=transform,\n",
    "    )\n",
    "\n",
    "    dataloader = DataLoader(\n",
    "        dataset, batch_size=batch_size, shuffle=shuffle, num_workers=0\n",
    "    )\n",
    "\n",
    "    shape_img = (28, 28)\n",
    "    num_classes = 10\n",
    "    channel = 1\n",
    "    hidden = 588\n",
    "\n",
    "    num_seeds = 5\n",
    "\n",
    "    return dataloader, shape_img, num_classes, channel, hidden, num_seeds\n",
    "\n",
    "# Xuất những thông tin cơ bản\n",
    "dataloader, shape_img, num_classes, channel, hidden, num_seeds = prepare_dataloader_MNIST()\n",
    "PrintInfomation(dataloader, shape_img, num_classes, channel, hidden, num_seeds)"
   ]
  },
  {
   "cell_type": "code",
   "execution_count": 4,
   "metadata": {},
   "outputs": [
    {
     "name": "stdout",
     "output_type": "stream",
     "text": [
      "Downloading https://www.cs.toronto.edu/~kriz/cifar-100-python.tar.gz to dataset/CIFAR100/./cifar-100-python.tar.gz\n"
     ]
    },
    {
     "name": "stderr",
     "output_type": "stream",
     "text": [
      "100%|██████████| 169M/169M [01:34<00:00, 1.78MB/s] \n"
     ]
    },
    {
     "name": "stdout",
     "output_type": "stream",
     "text": [
      "Extracting dataset/CIFAR100/./cifar-100-python.tar.gz to dataset/CIFAR100/.\n",
      "Shape of images: (32, 32)\n",
      "Number of classes: 100\n",
      "Number of channels: 3\n",
      "Hidden layer size: 768\n",
      "Number of seeds: 5\n",
      "-----------------\n",
      "Batch size: 64\n",
      "Image shape: torch.Size([64, 3, 32, 32])\n",
      "Labels shape: torch.Size([64])\n",
      "\n"
     ]
    },
    {
     "data": {
      "image/png": "[encoded data removed]",
      "text/plain": [
       "<Figure size 100x100 with 1 Axes>"
      ]
     },
     "metadata": {},
     "output_type": "display_data"
    }
   ],
   "source": [
    "# CIFAR-100\n",
    "def prepare_dataloader_CIFAR100(path=\"dataset/CIFAR100/.\", batch_size=64, shuffle=True):\n",
    "    at_t_dataset_train = torchvision.datasets.CIFAR100(\n",
    "        root=path, train=True, download=True\n",
    "    )\n",
    "\n",
    "    transform = transforms.Compose(\n",
    "        [transforms.ToTensor(), transforms.Normalize(mean=(0.5071, 0.4867, 0.4408), std=(0.2675, 0.2565, 0.2761))]\n",
    "    )\n",
    "\n",
    "    dataset = NumpyDataset(\n",
    "        at_t_dataset_train.data,  # Dữ liệu CIFAR-100\n",
    "        at_t_dataset_train.targets,  # Nhãn CIFAR-100\n",
    "        transform=transform,\n",
    "    )\n",
    "\n",
    "    dataloader = DataLoader(\n",
    "        dataset, batch_size=batch_size, shuffle=shuffle, num_workers=0\n",
    "    )\n",
    "\n",
    "    shape_img = (32, 32)\n",
    "    num_classes = 100  # Số lớp cho CIFAR-100\n",
    "    channel = 3  # Số kênh đầu vào cho CIFAR-100\n",
    "    hidden = 768  # Có thể điều chỉnh giá trị này nếu cần\n",
    "\n",
    "    num_seeds = 5\n",
    "\n",
    "    return dataloader, shape_img, num_classes, channel, hidden, num_seeds\n",
    "\n",
    "# Xuất những thông tin cơ bản\n",
    "dataloader, shape_img, num_classes, channel, hidden, num_seeds = prepare_dataloader_CIFAR100()\n",
    "PrintInfomation(dataloader, shape_img, num_classes, channel, hidden, num_seeds)"
   ]
  },
  {
   "cell_type": "code",
   "execution_count": 5,
   "metadata": {
    "id": "W1SuaQLL7aTg"
   },
   "outputs": [
    {
     "name": "stdout",
     "output_type": "stream",
     "text": [
      "Downloading http://vis-www.cs.umass.edu/lfw/lfw-funneled.tgz to dataset/LFW/./lfw-py/lfw-funneled.tgz\n"
     ]
    },
    {
     "name": "stderr",
     "output_type": "stream",
     "text": [
      "100%|██████████| 243M/243M [06:22<00:00, 636kB/s]  \n"
     ]
    },
    {
     "name": "stdout",
     "output_type": "stream",
     "text": [
      "Extracting dataset/LFW/./lfw-py/lfw-funneled.tgz to dataset/LFW/./lfw-py\n",
      "Downloading http://vis-www.cs.umass.edu/lfw/peopleDevTrain.txt to dataset/LFW/./lfw-py/peopleDevTrain.txt\n"
     ]
    },
    {
     "name": "stderr",
     "output_type": "stream",
     "text": [
      "100%|██████████| 66.4k/66.4k [00:00<00:00, 112kB/s]\n"
     ]
    },
    {
     "name": "stdout",
     "output_type": "stream",
     "text": [
      "Downloading http://vis-www.cs.umass.edu/lfw/lfw-names.txt to dataset/LFW/./lfw-py/lfw-names.txt\n"
     ]
    },
    {
     "name": "stderr",
     "output_type": "stream",
     "text": [
      "100%|██████████| 94.7k/94.7k [00:00<00:00, 116kB/s]\n"
     ]
    },
    {
     "name": "stdout",
     "output_type": "stream",
     "text": [
      "Shape of images: (62, 47)\n",
      "Number of classes: 4038\n",
      "Number of channels: 3\n",
      "Hidden layer size: 768\n",
      "Number of seeds: 5\n",
      "-----------------\n",
      "Batch size: 64\n",
      "Image shape: torch.Size([64, 3, 250, 250])\n",
      "Labels shape: torch.Size([64])\n",
      "\n"
     ]
    },
    {
     "data": {
      "image/png": "[encoded data removed]",
      "text/plain": [
       "<Figure size 100x100 with 1 Axes>"
      ]
     },
     "metadata": {},
     "output_type": "display_data"
    }
   ],
   "source": [
    "# LFW\n",
    "def prepare_dataloader_LFW(path=\"dataset/LFW/.\", batch_size=64, shuffle=True):\n",
    "    from torchvision.datasets import LFWPeople\n",
    "    from torchvision import transforms\n",
    "\n",
    "    transform = transforms.Compose(\n",
    "        [\n",
    "            transforms.ToTensor(),  # Chuyển đổi ảnh sang tensor\n",
    "            transforms.Normalize((0.5, 0.5, 0.5), (0.5, 0.5, 0.5)),  # Chuẩn hóa ảnh\n",
    "        ]\n",
    "    )\n",
    "\n",
    "    dataset = torchvision.datasets.LFWPeople(\n",
    "        root=path, split=\"train\", download=True, transform=transform\n",
    "    )\n",
    "\n",
    "    dataloader = DataLoader(\n",
    "        dataset, batch_size=batch_size, shuffle=shuffle, num_workers=0\n",
    "    )\n",
    "\n",
    "    # Cấu hình cho LFW dataset\n",
    "    shape_img = (62, 47)  # Kích thước ảnh LFW\n",
    "    num_classes = len(set(dataset.targets))  # Số lượng người trong dataset LFW\n",
    "    channel = 3  # Số kênh đầu vào (ảnh màu)\n",
    "    hidden = 768  # Số lượng ẩn (có thể điều chỉnh)\n",
    "\n",
    "    num_seeds = 5\n",
    "\n",
    "    return dataloader, shape_img, num_classes, channel, hidden, num_seeds\n",
    "\n",
    "# Xuất những thông tin cơ bản\n",
    "dataloader, shape_img, num_classes, channel, hidden, num_seeds = prepare_dataloader_LFW()\n",
    "PrintInfomation(dataloader, shape_img, num_classes, channel, hidden, num_seeds)"
   ]
  },
  {
   "cell_type": "code",
   "execution_count": null,
   "metadata": {},
   "outputs": [],
   "source": [
    "# xoá file txt trong dataset LFW, chỉ lấy thư mục hình ảnh\n",
    "for file in glob.glob(os.path.join(\"dataset/LFW/lfw-py/lfw_funneled\", \"*.txt\")):\n",
    "    os.remove(file)\n",
    "    print(f\"Đã xoá: {file}\")"
   ]
  }
 ],
 "metadata": {
  "accelerator": "GPU",
  "colab": {
   "provenance": []
  },
  "gpuClass": "standard",
  "kernelspec": {
   "display_name": "Python 3",
   "language": "python",
   "name": "python3"
  },
  "language_info": {
   "codemirror_mode": {
    "name": "ipython",
    "version": 3
   },
   "file_extension": ".py",
   "mimetype": "text/x-python",
   "name": "python",
   "nbconvert_exporter": "python",
   "pygments_lexer": "ipython3",
   "version": "3.10.12"
  }
 },
 "nbformat": 4,
 "nbformat_minor": 0
}
